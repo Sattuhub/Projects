{
 "cells": [
  {
   "cell_type": "markdown",
   "id": "e2d6510c",
   "metadata": {},
   "source": [
    "# Importing Libraries"
   ]
  },
  {
   "cell_type": "code",
   "execution_count": 1,
   "id": "1cc3da83",
   "metadata": {},
   "outputs": [],
   "source": [
    "import pandas as pd\n",
    "import numpy as np\n",
    "import matplotlib.pyplot as plt\n",
    "%matplotlib inline \n",
    "import seaborn as sns\n",
    "import scipy.stats as stats\n",
    "import os\n",
    "import warnings \n",
    "warnings.filterwarnings(\"ignore\")"
   ]
  },
  {
   "cell_type": "markdown",
   "id": "d99ff4e3",
   "metadata": {},
   "source": [
    "# Loading Datasets"
   ]
  },
  {
   "cell_type": "code",
   "execution_count": 2,
   "id": "083ba3af",
   "metadata": {},
   "outputs": [],
   "source": [
    "os.chdir(\"C:\\\\Data_Sets\\\\Data_Science_Course\\\\Case_study_floder\\\\Python Foundation Case Study 3 - Insurance Claims Case Study  case 5\\\\Case Study 3 - Insurance Claims Case Study\")"
   ]
  },
  {
   "cell_type": "code",
   "execution_count": 3,
   "id": "e33bdb96",
   "metadata": {},
   "outputs": [],
   "source": [
    "Claims = pd.read_csv(\"claims.csv\")\n",
    "Cust_demo = pd.read_csv(\"cust_demographics.csv\")"
   ]
  },
  {
   "cell_type": "markdown",
   "id": "53ce4fe9",
   "metadata": {},
   "source": [
    "# Data Preparation And Cleaning"
   ]
  },
  {
   "cell_type": "code",
   "execution_count": 4,
   "id": "24eb54f7",
   "metadata": {},
   "outputs": [
    {
     "data": {
      "text/html": [
       "<div>\n",
       "<style scoped>\n",
       "    .dataframe tbody tr th:only-of-type {\n",
       "        vertical-align: middle;\n",
       "    }\n",
       "\n",
       "    .dataframe tbody tr th {\n",
       "        vertical-align: top;\n",
       "    }\n",
       "\n",
       "    .dataframe thead th {\n",
       "        text-align: right;\n",
       "    }\n",
       "</style>\n",
       "<table border=\"1\" class=\"dataframe\">\n",
       "  <thead>\n",
       "    <tr style=\"text-align: right;\">\n",
       "      <th></th>\n",
       "      <th>claim_id</th>\n",
       "      <th>customer_id</th>\n",
       "      <th>incident_cause</th>\n",
       "      <th>claim_date</th>\n",
       "      <th>claim_area</th>\n",
       "      <th>police_report</th>\n",
       "      <th>claim_type</th>\n",
       "      <th>claim_amount</th>\n",
       "      <th>total_policy_claims</th>\n",
       "      <th>fraudulent</th>\n",
       "    </tr>\n",
       "  </thead>\n",
       "  <tbody>\n",
       "    <tr>\n",
       "      <th>0</th>\n",
       "      <td>54004764</td>\n",
       "      <td>21868593</td>\n",
       "      <td>Driver error</td>\n",
       "      <td>11/27/2017</td>\n",
       "      <td>Auto</td>\n",
       "      <td>No</td>\n",
       "      <td>Material only</td>\n",
       "      <td>$2980</td>\n",
       "      <td>1.0</td>\n",
       "      <td>No</td>\n",
       "    </tr>\n",
       "  </tbody>\n",
       "</table>\n",
       "</div>"
      ],
      "text/plain": [
       "   claim_id  customer_id incident_cause  claim_date claim_area police_report  \\\n",
       "0  54004764     21868593   Driver error  11/27/2017       Auto            No   \n",
       "\n",
       "      claim_type claim_amount  total_policy_claims fraudulent  \n",
       "0  Material only        $2980                  1.0         No  "
      ]
     },
     "execution_count": 4,
     "metadata": {},
     "output_type": "execute_result"
    }
   ],
   "source": [
    "Claims.head(1)"
   ]
  },
  {
   "cell_type": "code",
   "execution_count": 5,
   "id": "2fbb1d07",
   "metadata": {},
   "outputs": [
    {
     "data": {
      "text/html": [
       "<div>\n",
       "<style scoped>\n",
       "    .dataframe tbody tr th:only-of-type {\n",
       "        vertical-align: middle;\n",
       "    }\n",
       "\n",
       "    .dataframe tbody tr th {\n",
       "        vertical-align: top;\n",
       "    }\n",
       "\n",
       "    .dataframe thead th {\n",
       "        text-align: right;\n",
       "    }\n",
       "</style>\n",
       "<table border=\"1\" class=\"dataframe\">\n",
       "  <thead>\n",
       "    <tr style=\"text-align: right;\">\n",
       "      <th></th>\n",
       "      <th>CUST_ID</th>\n",
       "      <th>gender</th>\n",
       "      <th>DateOfBirth</th>\n",
       "      <th>State</th>\n",
       "      <th>Contact</th>\n",
       "      <th>Segment</th>\n",
       "    </tr>\n",
       "  </thead>\n",
       "  <tbody>\n",
       "    <tr>\n",
       "      <th>0</th>\n",
       "      <td>21868593</td>\n",
       "      <td>Female</td>\n",
       "      <td>12-Jan-79</td>\n",
       "      <td>VT</td>\n",
       "      <td>789-916-8172</td>\n",
       "      <td>Platinum</td>\n",
       "    </tr>\n",
       "  </tbody>\n",
       "</table>\n",
       "</div>"
      ],
      "text/plain": [
       "    CUST_ID  gender DateOfBirth State       Contact   Segment\n",
       "0  21868593  Female   12-Jan-79    VT  789-916-8172  Platinum"
      ]
     },
     "execution_count": 5,
     "metadata": {},
     "output_type": "execute_result"
    }
   ],
   "source": [
    "Cust_demo.head(1)"
   ]
  },
  {
   "cell_type": "markdown",
   "id": "d466c4d0",
   "metadata": {},
   "source": [
    "#### Merging the datasets together."
   ]
  },
  {
   "cell_type": "code",
   "execution_count": 6,
   "id": "f3e3ef43",
   "metadata": {},
   "outputs": [],
   "source": [
    "Cust_Claims = pd.merge(Claims,Cust_demo,left_on=\"customer_id\",right_on=\"CUST_ID\",how=\"inner\")"
   ]
  },
  {
   "cell_type": "code",
   "execution_count": 7,
   "id": "f3e9c02c",
   "metadata": {},
   "outputs": [
    {
     "data": {
      "text/html": [
       "<div>\n",
       "<style scoped>\n",
       "    .dataframe tbody tr th:only-of-type {\n",
       "        vertical-align: middle;\n",
       "    }\n",
       "\n",
       "    .dataframe tbody tr th {\n",
       "        vertical-align: top;\n",
       "    }\n",
       "\n",
       "    .dataframe thead th {\n",
       "        text-align: right;\n",
       "    }\n",
       "</style>\n",
       "<table border=\"1\" class=\"dataframe\">\n",
       "  <thead>\n",
       "    <tr style=\"text-align: right;\">\n",
       "      <th></th>\n",
       "      <th>claim_id</th>\n",
       "      <th>customer_id</th>\n",
       "      <th>incident_cause</th>\n",
       "      <th>claim_date</th>\n",
       "      <th>claim_area</th>\n",
       "      <th>police_report</th>\n",
       "      <th>claim_type</th>\n",
       "      <th>claim_amount</th>\n",
       "      <th>total_policy_claims</th>\n",
       "      <th>fraudulent</th>\n",
       "      <th>CUST_ID</th>\n",
       "      <th>gender</th>\n",
       "      <th>DateOfBirth</th>\n",
       "      <th>State</th>\n",
       "      <th>Contact</th>\n",
       "      <th>Segment</th>\n",
       "    </tr>\n",
       "  </thead>\n",
       "  <tbody>\n",
       "    <tr>\n",
       "      <th>0</th>\n",
       "      <td>54004764</td>\n",
       "      <td>21868593</td>\n",
       "      <td>Driver error</td>\n",
       "      <td>11/27/2017</td>\n",
       "      <td>Auto</td>\n",
       "      <td>No</td>\n",
       "      <td>Material only</td>\n",
       "      <td>$2980</td>\n",
       "      <td>1.0</td>\n",
       "      <td>No</td>\n",
       "      <td>21868593</td>\n",
       "      <td>Female</td>\n",
       "      <td>12-Jan-79</td>\n",
       "      <td>VT</td>\n",
       "      <td>789-916-8172</td>\n",
       "      <td>Platinum</td>\n",
       "    </tr>\n",
       "    <tr>\n",
       "      <th>1</th>\n",
       "      <td>33985796</td>\n",
       "      <td>75740424</td>\n",
       "      <td>Crime</td>\n",
       "      <td>10/03/2018</td>\n",
       "      <td>Home</td>\n",
       "      <td>Unknown</td>\n",
       "      <td>Material only</td>\n",
       "      <td>$2980</td>\n",
       "      <td>3.0</td>\n",
       "      <td>No</td>\n",
       "      <td>75740424</td>\n",
       "      <td>Female</td>\n",
       "      <td>13-Jan-70</td>\n",
       "      <td>ME</td>\n",
       "      <td>265-543-1264</td>\n",
       "      <td>Silver</td>\n",
       "    </tr>\n",
       "  </tbody>\n",
       "</table>\n",
       "</div>"
      ],
      "text/plain": [
       "   claim_id  customer_id incident_cause  claim_date claim_area police_report  \\\n",
       "0  54004764     21868593   Driver error  11/27/2017       Auto            No   \n",
       "1  33985796     75740424          Crime  10/03/2018       Home       Unknown   \n",
       "\n",
       "      claim_type claim_amount  total_policy_claims fraudulent   CUST_ID  \\\n",
       "0  Material only        $2980                  1.0         No  21868593   \n",
       "1  Material only        $2980                  3.0         No  75740424   \n",
       "\n",
       "   gender DateOfBirth State       Contact   Segment  \n",
       "0  Female   12-Jan-79    VT  789-916-8172  Platinum  \n",
       "1  Female   13-Jan-70    ME  265-543-1264    Silver  "
      ]
     },
     "execution_count": 7,
     "metadata": {},
     "output_type": "execute_result"
    }
   ],
   "source": [
    "Cust_Claims.head(2)"
   ]
  },
  {
   "cell_type": "markdown",
   "id": "b6d83003",
   "metadata": {},
   "source": [
    "#### Obsevation"
   ]
  },
  {
   "cell_type": "code",
   "execution_count": 8,
   "id": "95d2bde2",
   "metadata": {},
   "outputs": [
    {
     "data": {
      "text/html": [
       "<div>\n",
       "<style scoped>\n",
       "    .dataframe tbody tr th:only-of-type {\n",
       "        vertical-align: middle;\n",
       "    }\n",
       "\n",
       "    .dataframe tbody tr th {\n",
       "        vertical-align: top;\n",
       "    }\n",
       "\n",
       "    .dataframe thead th {\n",
       "        text-align: right;\n",
       "    }\n",
       "</style>\n",
       "<table border=\"1\" class=\"dataframe\">\n",
       "  <thead>\n",
       "    <tr style=\"text-align: right;\">\n",
       "      <th></th>\n",
       "      <th>claim_id</th>\n",
       "      <th>customer_id</th>\n",
       "      <th>incident_cause</th>\n",
       "      <th>claim_date</th>\n",
       "      <th>claim_area</th>\n",
       "      <th>police_report</th>\n",
       "      <th>claim_type</th>\n",
       "      <th>claim_amount</th>\n",
       "      <th>total_policy_claims</th>\n",
       "      <th>fraudulent</th>\n",
       "      <th>CUST_ID</th>\n",
       "      <th>gender</th>\n",
       "      <th>DateOfBirth</th>\n",
       "      <th>State</th>\n",
       "      <th>Contact</th>\n",
       "      <th>Segment</th>\n",
       "    </tr>\n",
       "  </thead>\n",
       "  <tbody>\n",
       "    <tr>\n",
       "      <th>0</th>\n",
       "      <td>54004764</td>\n",
       "      <td>21868593</td>\n",
       "      <td>Driver error</td>\n",
       "      <td>11/27/2017</td>\n",
       "      <td>Auto</td>\n",
       "      <td>No</td>\n",
       "      <td>Material only</td>\n",
       "      <td>$2980</td>\n",
       "      <td>1.0</td>\n",
       "      <td>No</td>\n",
       "      <td>21868593</td>\n",
       "      <td>Female</td>\n",
       "      <td>12-Jan-79</td>\n",
       "      <td>VT</td>\n",
       "      <td>789-916-8172</td>\n",
       "      <td>Platinum</td>\n",
       "    </tr>\n",
       "    <tr>\n",
       "      <th>1</th>\n",
       "      <td>33985796</td>\n",
       "      <td>75740424</td>\n",
       "      <td>Crime</td>\n",
       "      <td>10/03/2018</td>\n",
       "      <td>Home</td>\n",
       "      <td>Unknown</td>\n",
       "      <td>Material only</td>\n",
       "      <td>$2980</td>\n",
       "      <td>3.0</td>\n",
       "      <td>No</td>\n",
       "      <td>75740424</td>\n",
       "      <td>Female</td>\n",
       "      <td>13-Jan-70</td>\n",
       "      <td>ME</td>\n",
       "      <td>265-543-1264</td>\n",
       "      <td>Silver</td>\n",
       "    </tr>\n",
       "    <tr>\n",
       "      <th>2</th>\n",
       "      <td>53522022</td>\n",
       "      <td>30308357</td>\n",
       "      <td>Other driver error</td>\n",
       "      <td>02/02/2018</td>\n",
       "      <td>Auto</td>\n",
       "      <td>No</td>\n",
       "      <td>Material only</td>\n",
       "      <td>$3369.5</td>\n",
       "      <td>1.0</td>\n",
       "      <td>Yes</td>\n",
       "      <td>30308357</td>\n",
       "      <td>Female</td>\n",
       "      <td>11-Mar-84</td>\n",
       "      <td>TN</td>\n",
       "      <td>798-631-4758</td>\n",
       "      <td>Silver</td>\n",
       "    </tr>\n",
       "    <tr>\n",
       "      <th>3</th>\n",
       "      <td>63017412</td>\n",
       "      <td>30308357</td>\n",
       "      <td>Driver error</td>\n",
       "      <td>04/04/2018</td>\n",
       "      <td>Auto</td>\n",
       "      <td>No</td>\n",
       "      <td>Material only</td>\n",
       "      <td>$1950</td>\n",
       "      <td>6.0</td>\n",
       "      <td>No</td>\n",
       "      <td>30308357</td>\n",
       "      <td>Female</td>\n",
       "      <td>11-Mar-84</td>\n",
       "      <td>TN</td>\n",
       "      <td>798-631-4758</td>\n",
       "      <td>Silver</td>\n",
       "    </tr>\n",
       "    <tr>\n",
       "      <th>4</th>\n",
       "      <td>13015401</td>\n",
       "      <td>47830476</td>\n",
       "      <td>Natural causes</td>\n",
       "      <td>06/17/2018</td>\n",
       "      <td>Auto</td>\n",
       "      <td>No</td>\n",
       "      <td>Material only</td>\n",
       "      <td>$1680</td>\n",
       "      <td>1.0</td>\n",
       "      <td>No</td>\n",
       "      <td>47830476</td>\n",
       "      <td>Female</td>\n",
       "      <td>01-May-86</td>\n",
       "      <td>MA</td>\n",
       "      <td>413-187-7945</td>\n",
       "      <td>Silver</td>\n",
       "    </tr>\n",
       "    <tr>\n",
       "      <th>5</th>\n",
       "      <td>91609100</td>\n",
       "      <td>47830476</td>\n",
       "      <td>Natural causes</td>\n",
       "      <td>04/12/2017</td>\n",
       "      <td>Auto</td>\n",
       "      <td>Unknown</td>\n",
       "      <td>Material only</td>\n",
       "      <td>$1440</td>\n",
       "      <td>1.0</td>\n",
       "      <td>No</td>\n",
       "      <td>47830476</td>\n",
       "      <td>Female</td>\n",
       "      <td>01-May-86</td>\n",
       "      <td>MA</td>\n",
       "      <td>413-187-7945</td>\n",
       "      <td>Silver</td>\n",
       "    </tr>\n",
       "    <tr>\n",
       "      <th>6</th>\n",
       "      <td>22890252</td>\n",
       "      <td>19269962</td>\n",
       "      <td>Crime</td>\n",
       "      <td>01/13/2018</td>\n",
       "      <td>Auto</td>\n",
       "      <td>No</td>\n",
       "      <td>Material only</td>\n",
       "      <td>$2680</td>\n",
       "      <td>1.0</td>\n",
       "      <td>No</td>\n",
       "      <td>19269962</td>\n",
       "      <td>Male</td>\n",
       "      <td>13-May-77</td>\n",
       "      <td>NV</td>\n",
       "      <td>956-871-8691</td>\n",
       "      <td>Gold</td>\n",
       "    </tr>\n",
       "    <tr>\n",
       "      <th>7</th>\n",
       "      <td>39219616</td>\n",
       "      <td>19269962</td>\n",
       "      <td>Other causes</td>\n",
       "      <td>09/26/2018</td>\n",
       "      <td>Auto</td>\n",
       "      <td>No</td>\n",
       "      <td>Material only</td>\n",
       "      <td>$2240</td>\n",
       "      <td>2.0</td>\n",
       "      <td>No</td>\n",
       "      <td>19269962</td>\n",
       "      <td>Male</td>\n",
       "      <td>13-May-77</td>\n",
       "      <td>NV</td>\n",
       "      <td>956-871-8691</td>\n",
       "      <td>Gold</td>\n",
       "    </tr>\n",
       "    <tr>\n",
       "      <th>8</th>\n",
       "      <td>24050443</td>\n",
       "      <td>21831191</td>\n",
       "      <td>Other driver error</td>\n",
       "      <td>10/04/2017</td>\n",
       "      <td>Auto</td>\n",
       "      <td>No</td>\n",
       "      <td>Injury only</td>\n",
       "      <td>$38306.5</td>\n",
       "      <td>3.0</td>\n",
       "      <td>Yes</td>\n",
       "      <td>21831191</td>\n",
       "      <td>Male</td>\n",
       "      <td>17-May-77</td>\n",
       "      <td>NH</td>\n",
       "      <td>419-712-8513</td>\n",
       "      <td>Gold</td>\n",
       "    </tr>\n",
       "    <tr>\n",
       "      <th>9</th>\n",
       "      <td>91475471</td>\n",
       "      <td>21831191</td>\n",
       "      <td>Driver error</td>\n",
       "      <td>02/09/2018</td>\n",
       "      <td>Auto</td>\n",
       "      <td>Unknown</td>\n",
       "      <td>Material and injury</td>\n",
       "      <td>$36810</td>\n",
       "      <td>1.0</td>\n",
       "      <td>No</td>\n",
       "      <td>21831191</td>\n",
       "      <td>Male</td>\n",
       "      <td>17-May-77</td>\n",
       "      <td>NH</td>\n",
       "      <td>419-712-8513</td>\n",
       "      <td>Gold</td>\n",
       "    </tr>\n",
       "  </tbody>\n",
       "</table>\n",
       "</div>"
      ],
      "text/plain": [
       "   claim_id  customer_id      incident_cause  claim_date claim_area  \\\n",
       "0  54004764     21868593        Driver error  11/27/2017       Auto   \n",
       "1  33985796     75740424               Crime  10/03/2018       Home   \n",
       "2  53522022     30308357  Other driver error  02/02/2018       Auto   \n",
       "3  63017412     30308357        Driver error  04/04/2018       Auto   \n",
       "4  13015401     47830476      Natural causes  06/17/2018       Auto   \n",
       "5  91609100     47830476      Natural causes  04/12/2017       Auto   \n",
       "6  22890252     19269962               Crime  01/13/2018       Auto   \n",
       "7  39219616     19269962        Other causes  09/26/2018       Auto   \n",
       "8  24050443     21831191  Other driver error  10/04/2017       Auto   \n",
       "9  91475471     21831191        Driver error  02/09/2018       Auto   \n",
       "\n",
       "  police_report           claim_type claim_amount  total_policy_claims  \\\n",
       "0            No        Material only        $2980                  1.0   \n",
       "1       Unknown        Material only        $2980                  3.0   \n",
       "2            No        Material only      $3369.5                  1.0   \n",
       "3            No        Material only        $1950                  6.0   \n",
       "4            No        Material only        $1680                  1.0   \n",
       "5       Unknown        Material only        $1440                  1.0   \n",
       "6            No        Material only        $2680                  1.0   \n",
       "7            No        Material only        $2240                  2.0   \n",
       "8            No          Injury only     $38306.5                  3.0   \n",
       "9       Unknown  Material and injury       $36810                  1.0   \n",
       "\n",
       "  fraudulent   CUST_ID  gender DateOfBirth State       Contact   Segment  \n",
       "0         No  21868593  Female   12-Jan-79    VT  789-916-8172  Platinum  \n",
       "1         No  75740424  Female   13-Jan-70    ME  265-543-1264    Silver  \n",
       "2        Yes  30308357  Female   11-Mar-84    TN  798-631-4758    Silver  \n",
       "3         No  30308357  Female   11-Mar-84    TN  798-631-4758    Silver  \n",
       "4         No  47830476  Female   01-May-86    MA  413-187-7945    Silver  \n",
       "5         No  47830476  Female   01-May-86    MA  413-187-7945    Silver  \n",
       "6         No  19269962    Male   13-May-77    NV  956-871-8691      Gold  \n",
       "7         No  19269962    Male   13-May-77    NV  956-871-8691      Gold  \n",
       "8        Yes  21831191    Male   17-May-77    NH  419-712-8513      Gold  \n",
       "9         No  21831191    Male   17-May-77    NH  419-712-8513      Gold  "
      ]
     },
     "execution_count": 8,
     "metadata": {},
     "output_type": "execute_result"
    }
   ],
   "source": [
    "Cust_Claims.head(10)"
   ]
  },
  {
   "cell_type": "code",
   "execution_count": 9,
   "id": "419f20fb",
   "metadata": {},
   "outputs": [
    {
     "data": {
      "text/html": [
       "<div>\n",
       "<style scoped>\n",
       "    .dataframe tbody tr th:only-of-type {\n",
       "        vertical-align: middle;\n",
       "    }\n",
       "\n",
       "    .dataframe tbody tr th {\n",
       "        vertical-align: top;\n",
       "    }\n",
       "\n",
       "    .dataframe thead th {\n",
       "        text-align: right;\n",
       "    }\n",
       "</style>\n",
       "<table border=\"1\" class=\"dataframe\">\n",
       "  <thead>\n",
       "    <tr style=\"text-align: right;\">\n",
       "      <th></th>\n",
       "      <th>claim_id</th>\n",
       "      <th>customer_id</th>\n",
       "      <th>incident_cause</th>\n",
       "      <th>claim_date</th>\n",
       "      <th>claim_area</th>\n",
       "      <th>police_report</th>\n",
       "      <th>claim_type</th>\n",
       "      <th>claim_amount</th>\n",
       "      <th>total_policy_claims</th>\n",
       "      <th>fraudulent</th>\n",
       "      <th>CUST_ID</th>\n",
       "      <th>gender</th>\n",
       "      <th>DateOfBirth</th>\n",
       "      <th>State</th>\n",
       "      <th>Contact</th>\n",
       "      <th>Segment</th>\n",
       "    </tr>\n",
       "  </thead>\n",
       "  <tbody>\n",
       "    <tr>\n",
       "      <th>1075</th>\n",
       "      <td>28084004</td>\n",
       "      <td>82089910</td>\n",
       "      <td>Driver error</td>\n",
       "      <td>06/03/2018</td>\n",
       "      <td>Auto</td>\n",
       "      <td>No</td>\n",
       "      <td>Material only</td>\n",
       "      <td>$2780</td>\n",
       "      <td>1.0</td>\n",
       "      <td>No</td>\n",
       "      <td>82089910</td>\n",
       "      <td>Male</td>\n",
       "      <td>09-Oct-73</td>\n",
       "      <td>FL</td>\n",
       "      <td>257-248-4825</td>\n",
       "      <td>Silver</td>\n",
       "    </tr>\n",
       "    <tr>\n",
       "      <th>1076</th>\n",
       "      <td>87294246</td>\n",
       "      <td>57452643</td>\n",
       "      <td>Crime</td>\n",
       "      <td>01/21/2017</td>\n",
       "      <td>Home</td>\n",
       "      <td>No</td>\n",
       "      <td>Material only</td>\n",
       "      <td>$1380</td>\n",
       "      <td>3.0</td>\n",
       "      <td>No</td>\n",
       "      <td>57452643</td>\n",
       "      <td>Female</td>\n",
       "      <td>10-Jul-81</td>\n",
       "      <td>HI</td>\n",
       "      <td>348-562-2673</td>\n",
       "      <td>Platinum</td>\n",
       "    </tr>\n",
       "    <tr>\n",
       "      <th>1077</th>\n",
       "      <td>91386759</td>\n",
       "      <td>65208809</td>\n",
       "      <td>Natural causes</td>\n",
       "      <td>10/30/2018</td>\n",
       "      <td>Auto</td>\n",
       "      <td>No</td>\n",
       "      <td>Material only</td>\n",
       "      <td>$2290</td>\n",
       "      <td>1.0</td>\n",
       "      <td>No</td>\n",
       "      <td>65208809</td>\n",
       "      <td>Male</td>\n",
       "      <td>22-Apr-64</td>\n",
       "      <td>VA</td>\n",
       "      <td>286-128-6132</td>\n",
       "      <td>Platinum</td>\n",
       "    </tr>\n",
       "    <tr>\n",
       "      <th>1078</th>\n",
       "      <td>47457836</td>\n",
       "      <td>6756905</td>\n",
       "      <td>Driver error</td>\n",
       "      <td>01/21/2017</td>\n",
       "      <td>Auto</td>\n",
       "      <td>No</td>\n",
       "      <td>Material only</td>\n",
       "      <td>$2320</td>\n",
       "      <td>3.0</td>\n",
       "      <td>No</td>\n",
       "      <td>6756905</td>\n",
       "      <td>Male</td>\n",
       "      <td>21-Oct-97</td>\n",
       "      <td>NE</td>\n",
       "      <td>924-427-8125</td>\n",
       "      <td>Silver</td>\n",
       "    </tr>\n",
       "    <tr>\n",
       "      <th>1079</th>\n",
       "      <td>72025178</td>\n",
       "      <td>46850495</td>\n",
       "      <td>Other causes</td>\n",
       "      <td>11/27/2017</td>\n",
       "      <td>Auto</td>\n",
       "      <td>Yes</td>\n",
       "      <td>Material only</td>\n",
       "      <td>$2173.5</td>\n",
       "      <td>1.0</td>\n",
       "      <td>Yes</td>\n",
       "      <td>46850495</td>\n",
       "      <td>Male</td>\n",
       "      <td>21-Aug-62</td>\n",
       "      <td>NV</td>\n",
       "      <td>761-193-2346</td>\n",
       "      <td>Platinum</td>\n",
       "    </tr>\n",
       "    <tr>\n",
       "      <th>1080</th>\n",
       "      <td>62020796</td>\n",
       "      <td>79539873</td>\n",
       "      <td>Other driver error</td>\n",
       "      <td>09/06/2018</td>\n",
       "      <td>Auto</td>\n",
       "      <td>Yes</td>\n",
       "      <td>Material only</td>\n",
       "      <td>$1770</td>\n",
       "      <td>1.0</td>\n",
       "      <td>No</td>\n",
       "      <td>79539873</td>\n",
       "      <td>Female</td>\n",
       "      <td>15-Mar-81</td>\n",
       "      <td>ND</td>\n",
       "      <td>459-425-4319</td>\n",
       "      <td>Platinum</td>\n",
       "    </tr>\n",
       "    <tr>\n",
       "      <th>1081</th>\n",
       "      <td>63269067</td>\n",
       "      <td>42364152</td>\n",
       "      <td>Other causes</td>\n",
       "      <td>05/09/2017</td>\n",
       "      <td>Home</td>\n",
       "      <td>No</td>\n",
       "      <td>Material only</td>\n",
       "      <td>$2800</td>\n",
       "      <td>1.0</td>\n",
       "      <td>No</td>\n",
       "      <td>42364152</td>\n",
       "      <td>Female</td>\n",
       "      <td>07-Jul-96</td>\n",
       "      <td>ID</td>\n",
       "      <td>529-462-1635</td>\n",
       "      <td>Silver</td>\n",
       "    </tr>\n",
       "    <tr>\n",
       "      <th>1082</th>\n",
       "      <td>22690595</td>\n",
       "      <td>19888166</td>\n",
       "      <td>Other driver error</td>\n",
       "      <td>05/15/2017</td>\n",
       "      <td>Auto</td>\n",
       "      <td>Yes</td>\n",
       "      <td>Injury only</td>\n",
       "      <td>$33080</td>\n",
       "      <td>2.0</td>\n",
       "      <td>No</td>\n",
       "      <td>19888166</td>\n",
       "      <td>Male</td>\n",
       "      <td>11-Apr-90</td>\n",
       "      <td>WI</td>\n",
       "      <td>712-651-9613</td>\n",
       "      <td>Gold</td>\n",
       "    </tr>\n",
       "    <tr>\n",
       "      <th>1083</th>\n",
       "      <td>12376894</td>\n",
       "      <td>11256802</td>\n",
       "      <td>Other driver error</td>\n",
       "      <td>04/18/2017</td>\n",
       "      <td>Auto</td>\n",
       "      <td>No</td>\n",
       "      <td>Material only</td>\n",
       "      <td>$2840</td>\n",
       "      <td>4.0</td>\n",
       "      <td>No</td>\n",
       "      <td>11256802</td>\n",
       "      <td>Female</td>\n",
       "      <td>22-Oct-64</td>\n",
       "      <td>LA</td>\n",
       "      <td>469-345-5617</td>\n",
       "      <td>Silver</td>\n",
       "    </tr>\n",
       "    <tr>\n",
       "      <th>1084</th>\n",
       "      <td>63226031</td>\n",
       "      <td>61575264</td>\n",
       "      <td>Natural causes</td>\n",
       "      <td>03/16/2017</td>\n",
       "      <td>Auto</td>\n",
       "      <td>No</td>\n",
       "      <td>Material only</td>\n",
       "      <td>$1490</td>\n",
       "      <td>1.0</td>\n",
       "      <td>No</td>\n",
       "      <td>61575264</td>\n",
       "      <td>Male</td>\n",
       "      <td>12-Jul-95</td>\n",
       "      <td>WY</td>\n",
       "      <td>182-385-1392</td>\n",
       "      <td>Gold</td>\n",
       "    </tr>\n",
       "  </tbody>\n",
       "</table>\n",
       "</div>"
      ],
      "text/plain": [
       "      claim_id  customer_id      incident_cause  claim_date claim_area  \\\n",
       "1075  28084004     82089910        Driver error  06/03/2018       Auto   \n",
       "1076  87294246     57452643               Crime  01/21/2017       Home   \n",
       "1077  91386759     65208809      Natural causes  10/30/2018       Auto   \n",
       "1078  47457836      6756905        Driver error  01/21/2017       Auto   \n",
       "1079  72025178     46850495        Other causes  11/27/2017       Auto   \n",
       "1080  62020796     79539873  Other driver error  09/06/2018       Auto   \n",
       "1081  63269067     42364152        Other causes  05/09/2017       Home   \n",
       "1082  22690595     19888166  Other driver error  05/15/2017       Auto   \n",
       "1083  12376894     11256802  Other driver error  04/18/2017       Auto   \n",
       "1084  63226031     61575264      Natural causes  03/16/2017       Auto   \n",
       "\n",
       "     police_report     claim_type claim_amount  total_policy_claims  \\\n",
       "1075            No  Material only        $2780                  1.0   \n",
       "1076            No  Material only        $1380                  3.0   \n",
       "1077            No  Material only        $2290                  1.0   \n",
       "1078            No  Material only        $2320                  3.0   \n",
       "1079           Yes  Material only      $2173.5                  1.0   \n",
       "1080           Yes  Material only        $1770                  1.0   \n",
       "1081            No  Material only        $2800                  1.0   \n",
       "1082           Yes    Injury only       $33080                  2.0   \n",
       "1083            No  Material only        $2840                  4.0   \n",
       "1084            No  Material only        $1490                  1.0   \n",
       "\n",
       "     fraudulent   CUST_ID  gender DateOfBirth State       Contact   Segment  \n",
       "1075         No  82089910    Male   09-Oct-73    FL  257-248-4825    Silver  \n",
       "1076         No  57452643  Female   10-Jul-81    HI  348-562-2673  Platinum  \n",
       "1077         No  65208809    Male   22-Apr-64    VA  286-128-6132  Platinum  \n",
       "1078         No   6756905    Male   21-Oct-97    NE  924-427-8125    Silver  \n",
       "1079        Yes  46850495    Male   21-Aug-62    NV  761-193-2346  Platinum  \n",
       "1080         No  79539873  Female   15-Mar-81    ND  459-425-4319  Platinum  \n",
       "1081         No  42364152  Female   07-Jul-96    ID  529-462-1635    Silver  \n",
       "1082         No  19888166    Male   11-Apr-90    WI  712-651-9613      Gold  \n",
       "1083         No  11256802  Female   22-Oct-64    LA  469-345-5617    Silver  \n",
       "1084         No  61575264    Male   12-Jul-95    WY  182-385-1392      Gold  "
      ]
     },
     "execution_count": 9,
     "metadata": {},
     "output_type": "execute_result"
    }
   ],
   "source": [
    "Cust_Claims.tail(10)"
   ]
  },
  {
   "cell_type": "code",
   "execution_count": 10,
   "id": "9c391115",
   "metadata": {},
   "outputs": [
    {
     "data": {
      "text/plain": [
       "(1085, 16)"
      ]
     },
     "execution_count": 10,
     "metadata": {},
     "output_type": "execute_result"
    }
   ],
   "source": [
    "Cust_Claims.shape"
   ]
  },
  {
   "cell_type": "code",
   "execution_count": 11,
   "id": "922e66ba",
   "metadata": {},
   "outputs": [
    {
     "name": "stdout",
     "output_type": "stream",
     "text": [
      "<class 'pandas.core.frame.DataFrame'>\n",
      "Int64Index: 1085 entries, 0 to 1084\n",
      "Data columns (total 16 columns):\n",
      " #   Column               Non-Null Count  Dtype  \n",
      "---  ------               --------------  -----  \n",
      " 0   claim_id             1085 non-null   int64  \n",
      " 1   customer_id          1085 non-null   int64  \n",
      " 2   incident_cause       1085 non-null   object \n",
      " 3   claim_date           1085 non-null   object \n",
      " 4   claim_area           1085 non-null   object \n",
      " 5   police_report        1085 non-null   object \n",
      " 6   claim_type           1085 non-null   object \n",
      " 7   claim_amount         1020 non-null   object \n",
      " 8   total_policy_claims  1075 non-null   float64\n",
      " 9   fraudulent           1085 non-null   object \n",
      " 10  CUST_ID              1085 non-null   int64  \n",
      " 11  gender               1085 non-null   object \n",
      " 12  DateOfBirth          1085 non-null   object \n",
      " 13  State                1085 non-null   object \n",
      " 14  Contact              1085 non-null   object \n",
      " 15  Segment              1085 non-null   object \n",
      "dtypes: float64(1), int64(3), object(12)\n",
      "memory usage: 144.1+ KB\n"
     ]
    }
   ],
   "source": [
    "Cust_Claims.info()"
   ]
  },
  {
   "cell_type": "markdown",
   "id": "51c15e02",
   "metadata": {},
   "source": [
    "###### Changing datatypes of date columns to datetime, claim_amount  and contact to integer or float type."
   ]
  },
  {
   "cell_type": "code",
   "execution_count": 12,
   "id": "307b494e",
   "metadata": {},
   "outputs": [],
   "source": [
    "Cust_Claims[\"claim_date\"] = pd.to_datetime(Cust_Claims[\"claim_date\"])"
   ]
  },
  {
   "cell_type": "code",
   "execution_count": 13,
   "id": "a7299678",
   "metadata": {},
   "outputs": [],
   "source": [
    "Cust_Claims[\"DateOfBirth\"] = pd.to_datetime(Cust_Claims[\"DateOfBirth\"])"
   ]
  },
  {
   "cell_type": "code",
   "execution_count": 14,
   "id": "acaae353",
   "metadata": {},
   "outputs": [],
   "source": [
    "Cust_Claims[\"claim_amount\"] = Cust_Claims[\"claim_amount\"].str.replace(\"$\",\"\")"
   ]
  },
  {
   "cell_type": "code",
   "execution_count": 15,
   "id": "3bb97582",
   "metadata": {},
   "outputs": [],
   "source": [
    "Cust_Claims[\"claim_amount\"] = pd.to_numeric(Cust_Claims[\"claim_amount\"])"
   ]
  },
  {
   "cell_type": "code",
   "execution_count": 16,
   "id": "7542bc27",
   "metadata": {},
   "outputs": [],
   "source": [
    "Cust_Claims[\"Contact\"] = Cust_Claims[\"Contact\"].str.replace(\"-\",\"\")"
   ]
  },
  {
   "cell_type": "code",
   "execution_count": 17,
   "id": "d753181c",
   "metadata": {},
   "outputs": [],
   "source": [
    "Cust_Claims[\"Contact\"] = pd.to_numeric(Cust_Claims[\"Contact\"])"
   ]
  },
  {
   "cell_type": "code",
   "execution_count": 18,
   "id": "b78956e3",
   "metadata": {},
   "outputs": [
    {
     "name": "stdout",
     "output_type": "stream",
     "text": [
      "<class 'pandas.core.frame.DataFrame'>\n",
      "Int64Index: 1085 entries, 0 to 1084\n",
      "Data columns (total 16 columns):\n",
      " #   Column               Non-Null Count  Dtype         \n",
      "---  ------               --------------  -----         \n",
      " 0   claim_id             1085 non-null   int64         \n",
      " 1   customer_id          1085 non-null   int64         \n",
      " 2   incident_cause       1085 non-null   object        \n",
      " 3   claim_date           1085 non-null   datetime64[ns]\n",
      " 4   claim_area           1085 non-null   object        \n",
      " 5   police_report        1085 non-null   object        \n",
      " 6   claim_type           1085 non-null   object        \n",
      " 7   claim_amount         1020 non-null   float64       \n",
      " 8   total_policy_claims  1075 non-null   float64       \n",
      " 9   fraudulent           1085 non-null   object        \n",
      " 10  CUST_ID              1085 non-null   int64         \n",
      " 11  gender               1085 non-null   object        \n",
      " 12  DateOfBirth          1085 non-null   datetime64[ns]\n",
      " 13  State                1085 non-null   object        \n",
      " 14  Contact              1085 non-null   int64         \n",
      " 15  Segment              1085 non-null   object        \n",
      "dtypes: datetime64[ns](2), float64(2), int64(4), object(8)\n",
      "memory usage: 144.1+ KB\n"
     ]
    }
   ],
   "source": [
    "Cust_Claims.info()"
   ]
  },
  {
   "cell_type": "markdown",
   "id": "244db905",
   "metadata": {},
   "source": [
    "###### lets see the summary statistic of numerical columns"
   ]
  },
  {
   "cell_type": "code",
   "execution_count": 19,
   "id": "819910bc",
   "metadata": {},
   "outputs": [
    {
     "data": {
      "text/html": [
       "<div>\n",
       "<style scoped>\n",
       "    .dataframe tbody tr th:only-of-type {\n",
       "        vertical-align: middle;\n",
       "    }\n",
       "\n",
       "    .dataframe tbody tr th {\n",
       "        vertical-align: top;\n",
       "    }\n",
       "\n",
       "    .dataframe thead th {\n",
       "        text-align: right;\n",
       "    }\n",
       "</style>\n",
       "<table border=\"1\" class=\"dataframe\">\n",
       "  <thead>\n",
       "    <tr style=\"text-align: right;\">\n",
       "      <th></th>\n",
       "      <th>count</th>\n",
       "      <th>mean</th>\n",
       "      <th>std</th>\n",
       "      <th>min</th>\n",
       "      <th>25%</th>\n",
       "      <th>50%</th>\n",
       "      <th>75%</th>\n",
       "      <th>max</th>\n",
       "    </tr>\n",
       "  </thead>\n",
       "  <tbody>\n",
       "    <tr>\n",
       "      <th>claim_id</th>\n",
       "      <td>1085.0</td>\n",
       "      <td>4.891553e+07</td>\n",
       "      <td>2.912818e+07</td>\n",
       "      <td>2.683200e+04</td>\n",
       "      <td>2.404606e+07</td>\n",
       "      <td>4.855975e+07</td>\n",
       "      <td>7.404400e+07</td>\n",
       "      <td>9.977548e+07</td>\n",
       "    </tr>\n",
       "    <tr>\n",
       "      <th>customer_id</th>\n",
       "      <td>1085.0</td>\n",
       "      <td>5.076790e+07</td>\n",
       "      <td>2.849625e+07</td>\n",
       "      <td>1.545570e+05</td>\n",
       "      <td>2.645062e+07</td>\n",
       "      <td>4.975949e+07</td>\n",
       "      <td>7.609396e+07</td>\n",
       "      <td>9.996199e+07</td>\n",
       "    </tr>\n",
       "    <tr>\n",
       "      <th>claim_amount</th>\n",
       "      <td>1020.0</td>\n",
       "      <td>1.246768e+04</td>\n",
       "      <td>1.378325e+04</td>\n",
       "      <td>1.000000e+03</td>\n",
       "      <td>1.870000e+03</td>\n",
       "      <td>2.740000e+03</td>\n",
       "      <td>2.426000e+04</td>\n",
       "      <td>4.815050e+04</td>\n",
       "    </tr>\n",
       "    <tr>\n",
       "      <th>total_policy_claims</th>\n",
       "      <td>1075.0</td>\n",
       "      <td>1.586977e+00</td>\n",
       "      <td>1.146859e+00</td>\n",
       "      <td>1.000000e+00</td>\n",
       "      <td>1.000000e+00</td>\n",
       "      <td>1.000000e+00</td>\n",
       "      <td>2.000000e+00</td>\n",
       "      <td>8.000000e+00</td>\n",
       "    </tr>\n",
       "    <tr>\n",
       "      <th>CUST_ID</th>\n",
       "      <td>1085.0</td>\n",
       "      <td>5.076790e+07</td>\n",
       "      <td>2.849625e+07</td>\n",
       "      <td>1.545570e+05</td>\n",
       "      <td>2.645062e+07</td>\n",
       "      <td>4.975949e+07</td>\n",
       "      <td>7.609396e+07</td>\n",
       "      <td>9.996199e+07</td>\n",
       "    </tr>\n",
       "    <tr>\n",
       "      <th>Contact</th>\n",
       "      <td>1085.0</td>\n",
       "      <td>5.631369e+09</td>\n",
       "      <td>2.592713e+09</td>\n",
       "      <td>1.233463e+09</td>\n",
       "      <td>3.481866e+09</td>\n",
       "      <td>5.737193e+09</td>\n",
       "      <td>7.858943e+09</td>\n",
       "      <td>9.865419e+09</td>\n",
       "    </tr>\n",
       "  </tbody>\n",
       "</table>\n",
       "</div>"
      ],
      "text/plain": [
       "                      count          mean           std           min  \\\n",
       "claim_id             1085.0  4.891553e+07  2.912818e+07  2.683200e+04   \n",
       "customer_id          1085.0  5.076790e+07  2.849625e+07  1.545570e+05   \n",
       "claim_amount         1020.0  1.246768e+04  1.378325e+04  1.000000e+03   \n",
       "total_policy_claims  1075.0  1.586977e+00  1.146859e+00  1.000000e+00   \n",
       "CUST_ID              1085.0  5.076790e+07  2.849625e+07  1.545570e+05   \n",
       "Contact              1085.0  5.631369e+09  2.592713e+09  1.233463e+09   \n",
       "\n",
       "                              25%           50%           75%           max  \n",
       "claim_id             2.404606e+07  4.855975e+07  7.404400e+07  9.977548e+07  \n",
       "customer_id          2.645062e+07  4.975949e+07  7.609396e+07  9.996199e+07  \n",
       "claim_amount         1.870000e+03  2.740000e+03  2.426000e+04  4.815050e+04  \n",
       "total_policy_claims  1.000000e+00  1.000000e+00  2.000000e+00  8.000000e+00  \n",
       "CUST_ID              2.645062e+07  4.975949e+07  7.609396e+07  9.996199e+07  \n",
       "Contact              3.481866e+09  5.737193e+09  7.858943e+09  9.865419e+09  "
      ]
     },
     "execution_count": 19,
     "metadata": {},
     "output_type": "execute_result"
    }
   ],
   "source": [
    "Cust_Claims.describe().T"
   ]
  },
  {
   "cell_type": "code",
   "execution_count": 20,
   "id": "3b0336d7",
   "metadata": {},
   "outputs": [
    {
     "data": {
      "text/html": [
       "<div>\n",
       "<style scoped>\n",
       "    .dataframe tbody tr th:only-of-type {\n",
       "        vertical-align: middle;\n",
       "    }\n",
       "\n",
       "    .dataframe tbody tr th {\n",
       "        vertical-align: top;\n",
       "    }\n",
       "\n",
       "    .dataframe thead th {\n",
       "        text-align: right;\n",
       "    }\n",
       "</style>\n",
       "<table border=\"1\" class=\"dataframe\">\n",
       "  <thead>\n",
       "    <tr style=\"text-align: right;\">\n",
       "      <th></th>\n",
       "      <th>count</th>\n",
       "      <th>unique</th>\n",
       "      <th>top</th>\n",
       "      <th>freq</th>\n",
       "    </tr>\n",
       "  </thead>\n",
       "  <tbody>\n",
       "    <tr>\n",
       "      <th>incident_cause</th>\n",
       "      <td>1085</td>\n",
       "      <td>5</td>\n",
       "      <td>Other causes</td>\n",
       "      <td>285</td>\n",
       "    </tr>\n",
       "    <tr>\n",
       "      <th>claim_area</th>\n",
       "      <td>1085</td>\n",
       "      <td>2</td>\n",
       "      <td>Auto</td>\n",
       "      <td>970</td>\n",
       "    </tr>\n",
       "    <tr>\n",
       "      <th>police_report</th>\n",
       "      <td>1085</td>\n",
       "      <td>3</td>\n",
       "      <td>No</td>\n",
       "      <td>621</td>\n",
       "    </tr>\n",
       "    <tr>\n",
       "      <th>claim_type</th>\n",
       "      <td>1085</td>\n",
       "      <td>3</td>\n",
       "      <td>Material only</td>\n",
       "      <td>653</td>\n",
       "    </tr>\n",
       "    <tr>\n",
       "      <th>fraudulent</th>\n",
       "      <td>1085</td>\n",
       "      <td>2</td>\n",
       "      <td>No</td>\n",
       "      <td>838</td>\n",
       "    </tr>\n",
       "    <tr>\n",
       "      <th>gender</th>\n",
       "      <td>1085</td>\n",
       "      <td>2</td>\n",
       "      <td>Male</td>\n",
       "      <td>556</td>\n",
       "    </tr>\n",
       "    <tr>\n",
       "      <th>State</th>\n",
       "      <td>1085</td>\n",
       "      <td>50</td>\n",
       "      <td>NY</td>\n",
       "      <td>31</td>\n",
       "    </tr>\n",
       "    <tr>\n",
       "      <th>Segment</th>\n",
       "      <td>1085</td>\n",
       "      <td>3</td>\n",
       "      <td>Gold</td>\n",
       "      <td>375</td>\n",
       "    </tr>\n",
       "  </tbody>\n",
       "</table>\n",
       "</div>"
      ],
      "text/plain": [
       "               count unique            top freq\n",
       "incident_cause  1085      5   Other causes  285\n",
       "claim_area      1085      2           Auto  970\n",
       "police_report   1085      3             No  621\n",
       "claim_type      1085      3  Material only  653\n",
       "fraudulent      1085      2             No  838\n",
       "gender          1085      2           Male  556\n",
       "State           1085     50             NY   31\n",
       "Segment         1085      3           Gold  375"
      ]
     },
     "execution_count": 20,
     "metadata": {},
     "output_type": "execute_result"
    }
   ],
   "source": [
    "Cust_Claims.describe(include=\"object\").T"
   ]
  },
  {
   "cell_type": "markdown",
   "id": "7f9457ad",
   "metadata": {},
   "source": [
    "###### Checking for Duplicates Values."
   ]
  },
  {
   "cell_type": "code",
   "execution_count": 21,
   "id": "153d00c2",
   "metadata": {},
   "outputs": [
    {
     "data": {
      "text/plain": [
       "0"
      ]
     },
     "execution_count": 21,
     "metadata": {},
     "output_type": "execute_result"
    }
   ],
   "source": [
    "Cust_Claims.duplicated().sum()"
   ]
  },
  {
   "cell_type": "markdown",
   "id": "3030f320",
   "metadata": {},
   "source": [
    "###### Checking for Null Values and filling with mean values after treating outliers."
   ]
  },
  {
   "cell_type": "code",
   "execution_count": 22,
   "id": "fd58f6a3",
   "metadata": {},
   "outputs": [
    {
     "data": {
      "text/plain": [
       "claim_id                0\n",
       "customer_id             0\n",
       "incident_cause          0\n",
       "claim_date              0\n",
       "claim_area              0\n",
       "police_report           0\n",
       "claim_type              0\n",
       "claim_amount           65\n",
       "total_policy_claims    10\n",
       "fraudulent              0\n",
       "CUST_ID                 0\n",
       "gender                  0\n",
       "DateOfBirth             0\n",
       "State                   0\n",
       "Contact                 0\n",
       "Segment                 0\n",
       "dtype: int64"
      ]
     },
     "execution_count": 22,
     "metadata": {},
     "output_type": "execute_result"
    }
   ],
   "source": [
    "Cust_Claims.isnull().sum()"
   ]
  },
  {
   "cell_type": "code",
   "execution_count": 23,
   "id": "30ac8e5c",
   "metadata": {},
   "outputs": [],
   "source": [
    "Cust_Claims.fillna(Cust_Claims[[\"claim_amount\",]].mean(),inplace=True)"
   ]
  },
  {
   "cell_type": "code",
   "execution_count": 24,
   "id": "7769f829",
   "metadata": {},
   "outputs": [
    {
     "data": {
      "text/plain": [
       "claim_id                0\n",
       "customer_id             0\n",
       "incident_cause          0\n",
       "claim_date              0\n",
       "claim_area              0\n",
       "police_report           0\n",
       "claim_type              0\n",
       "claim_amount            0\n",
       "total_policy_claims    10\n",
       "fraudulent              0\n",
       "CUST_ID                 0\n",
       "gender                  0\n",
       "DateOfBirth             0\n",
       "State                   0\n",
       "Contact                 0\n",
       "Segment                 0\n",
       "dtype: int64"
      ]
     },
     "execution_count": 24,
     "metadata": {},
     "output_type": "execute_result"
    }
   ],
   "source": [
    "Cust_Claims.isnull().sum()"
   ]
  },
  {
   "cell_type": "markdown",
   "id": "278c81d1",
   "metadata": {},
   "source": [
    "###### Looking for Continuous columns."
   ]
  },
  {
   "cell_type": "code",
   "execution_count": 25,
   "id": "8ef5bb78",
   "metadata": {},
   "outputs": [
    {
     "data": {
      "text/html": [
       "<div>\n",
       "<style scoped>\n",
       "    .dataframe tbody tr th:only-of-type {\n",
       "        vertical-align: middle;\n",
       "    }\n",
       "\n",
       "    .dataframe tbody tr th {\n",
       "        vertical-align: top;\n",
       "    }\n",
       "\n",
       "    .dataframe thead th {\n",
       "        text-align: right;\n",
       "    }\n",
       "</style>\n",
       "<table border=\"1\" class=\"dataframe\">\n",
       "  <thead>\n",
       "    <tr style=\"text-align: right;\">\n",
       "      <th></th>\n",
       "      <th>claim_id</th>\n",
       "      <th>customer_id</th>\n",
       "      <th>claim_amount</th>\n",
       "      <th>total_policy_claims</th>\n",
       "      <th>CUST_ID</th>\n",
       "      <th>Contact</th>\n",
       "    </tr>\n",
       "  </thead>\n",
       "  <tbody>\n",
       "    <tr>\n",
       "      <th>0</th>\n",
       "      <td>54004764</td>\n",
       "      <td>21868593</td>\n",
       "      <td>2980.0</td>\n",
       "      <td>1.0</td>\n",
       "      <td>21868593</td>\n",
       "      <td>7899168172</td>\n",
       "    </tr>\n",
       "  </tbody>\n",
       "</table>\n",
       "</div>"
      ],
      "text/plain": [
       "   claim_id  customer_id  claim_amount  total_policy_claims   CUST_ID  \\\n",
       "0  54004764     21868593        2980.0                  1.0  21868593   \n",
       "\n",
       "      Contact  \n",
       "0  7899168172  "
      ]
     },
     "execution_count": 25,
     "metadata": {},
     "output_type": "execute_result"
    }
   ],
   "source": [
    "Continuous_col = Cust_Claims.select_dtypes(\"number\")\n",
    "Continuous_col.head(1)"
   ]
  },
  {
   "cell_type": "markdown",
   "id": "92469b5e",
   "metadata": {},
   "source": [
    "###### Looking for Outliers in Continuous Columns."
   ]
  },
  {
   "cell_type": "code",
   "execution_count": 26,
   "id": "f31062cb",
   "metadata": {},
   "outputs": [
    {
     "data": {
      "image/png": "[encoded data removed]",
      "text/plain": [
       "<Figure size 300x100 with 1 Axes>"
      ]
     },
     "metadata": {},
     "output_type": "display_data"
    },
    {
     "data": {
      "image/png": "[encoded data removed]",
      "text/plain": [
       "<Figure size 300x100 with 1 Axes>"
      ]
     },
     "metadata": {},
     "output_type": "display_data"
    },
    {
     "data": {
      "image/png": "[encoded data removed]",
      "text/plain": [
       "<Figure size 300x100 with 1 Axes>"
      ]
     },
     "metadata": {},
     "output_type": "display_data"
    },
    {
     "data": {
      "image/png": "[encoded data removed]",
      "text/plain": [
       "<Figure size 300x100 with 1 Axes>"
      ]
     },
     "metadata": {},
     "output_type": "display_data"
    },
    {
     "data": {
      "image/png": "[encoded data removed]",
      "text/plain": [
       "<Figure size 300x100 with 1 Axes>"
      ]
     },
     "metadata": {},
     "output_type": "display_data"
    },
    {
     "data": {
      "image/png": "[encoded data removed]",
      "text/plain": [
       "<Figure size 300x100 with 1 Axes>"
      ]
     },
     "metadata": {},
     "output_type": "display_data"
    }
   ],
   "source": [
    "for i in Continuous_col:\n",
    "    plt.figure(figsize=(3,1))\n",
    "    sns.boxplot(data=Continuous_col,x=i)\n",
    "    plt.show()"
   ]
  },
  {
   "cell_type": "markdown",
   "id": "a5cf1042",
   "metadata": {},
   "source": [
    "###### Outliers Treatment."
   ]
  },
  {
   "cell_type": "code",
   "execution_count": 27,
   "id": "971f0e04",
   "metadata": {},
   "outputs": [],
   "source": [
    "##outlier treatment\n",
    "\n",
    "def treat_outlier(x):\n",
    "    q1=x.quantile(0.25)\n",
    "    q3=x.quantile(0.75)\n",
    "    iqr=q3-q1\n",
    "    lr=q1-1.5*iqr\n",
    "    ur=q3+1.5*iqr\n",
    "    return x.clip(lower=lr,upper=ur)"
   ]
  },
  {
   "cell_type": "code",
   "execution_count": 28,
   "id": "3fe1a1c2",
   "metadata": {},
   "outputs": [],
   "source": [
    "for column in Continuous_col.columns:\n",
    "    Continuous_col[column]=treat_outlier(Continuous_col[column])"
   ]
  },
  {
   "cell_type": "code",
   "execution_count": 29,
   "id": "3558d21e",
   "metadata": {},
   "outputs": [
    {
     "data": {
      "image/png": "[encoded data removed]",
      "text/plain": [
       "<Figure size 300x100 with 1 Axes>"
      ]
     },
     "metadata": {},
     "output_type": "display_data"
    },
    {
     "data": {
      "image/png": "[encoded data removed]",
      "text/plain": [
       "<Figure size 300x100 with 1 Axes>"
      ]
     },
     "metadata": {},
     "output_type": "display_data"
    },
    {
     "data": {
      "image/png": "[encoded data removed]",
      "text/plain": [
       "<Figure size 300x100 with 1 Axes>"
      ]
     },
     "metadata": {},
     "output_type": "display_data"
    },
    {
     "data": {
      "image/png": "[encoded data removed]",
      "text/plain": [
       "<Figure size 300x100 with 1 Axes>"
      ]
     },
     "metadata": {},
     "output_type": "display_data"
    },
    {
     "data": {
      "image/png": "[encoded data removed]",
      "text/plain": [
       "<Figure size 300x100 with 1 Axes>"
      ]
     },
     "metadata": {},
     "output_type": "display_data"
    },
    {
     "data": {
      "image/png": "[encoded data removed]",
      "text/plain": [
       "<Figure size 300x100 with 1 Axes>"
      ]
     },
     "metadata": {},
     "output_type": "display_data"
    }
   ],
   "source": [
    "for i in Continuous_col.columns:\n",
    "    plt.figure(figsize=(3,1))\n",
    "    sns.boxplot(data=Continuous_col,x=i)\n",
    "    plt.show()"
   ]
  },
  {
   "cell_type": "markdown",
   "id": "83c77a62",
   "metadata": {},
   "source": [
    "###### Looking for Categorical columns."
   ]
  },
  {
   "cell_type": "code",
   "execution_count": 30,
   "id": "32ec6c39",
   "metadata": {},
   "outputs": [
    {
     "data": {
      "text/html": [
       "<div>\n",
       "<style scoped>\n",
       "    .dataframe tbody tr th:only-of-type {\n",
       "        vertical-align: middle;\n",
       "    }\n",
       "\n",
       "    .dataframe tbody tr th {\n",
       "        vertical-align: top;\n",
       "    }\n",
       "\n",
       "    .dataframe thead th {\n",
       "        text-align: right;\n",
       "    }\n",
       "</style>\n",
       "<table border=\"1\" class=\"dataframe\">\n",
       "  <thead>\n",
       "    <tr style=\"text-align: right;\">\n",
       "      <th></th>\n",
       "      <th>incident_cause</th>\n",
       "      <th>claim_area</th>\n",
       "      <th>police_report</th>\n",
       "      <th>claim_type</th>\n",
       "      <th>fraudulent</th>\n",
       "      <th>gender</th>\n",
       "      <th>State</th>\n",
       "      <th>Segment</th>\n",
       "    </tr>\n",
       "  </thead>\n",
       "  <tbody>\n",
       "    <tr>\n",
       "      <th>0</th>\n",
       "      <td>Driver error</td>\n",
       "      <td>Auto</td>\n",
       "      <td>No</td>\n",
       "      <td>Material only</td>\n",
       "      <td>No</td>\n",
       "      <td>Female</td>\n",
       "      <td>VT</td>\n",
       "      <td>Platinum</td>\n",
       "    </tr>\n",
       "  </tbody>\n",
       "</table>\n",
       "</div>"
      ],
      "text/plain": [
       "  incident_cause claim_area police_report     claim_type fraudulent  gender  \\\n",
       "0   Driver error       Auto            No  Material only         No  Female   \n",
       "\n",
       "  State   Segment  \n",
       "0    VT  Platinum  "
      ]
     },
     "execution_count": 30,
     "metadata": {},
     "output_type": "execute_result"
    }
   ],
   "source": [
    "Categorical_col = Cust_Claims.select_dtypes(\"object\")\n",
    "Categorical_col.head(1)"
   ]
  },
  {
   "cell_type": "markdown",
   "id": "c0a1e639",
   "metadata": {},
   "source": [
    "# Exploratory Analysis And Visualization"
   ]
  },
  {
   "cell_type": "markdown",
   "id": "1bb99116",
   "metadata": {},
   "source": [
    "###### Of all the injury claims, some of them have gone unreported with the police. Create an alert flag (1,0) for all such claims."
   ]
  },
  {
   "cell_type": "code",
   "execution_count": 136,
   "id": "5738e834",
   "metadata": {},
   "outputs": [
    {
     "data": {
      "text/plain": [
       "No         621\n",
       "Unknown    296\n",
       "Yes        168\n",
       "Name: police_report, dtype: int64"
      ]
     },
     "execution_count": 136,
     "metadata": {},
     "output_type": "execute_result"
    }
   ],
   "source": [
    "Cust_Claims.police_report.value_counts()"
   ]
  },
  {
   "cell_type": "code",
   "execution_count": 40,
   "id": "30e94e82",
   "metadata": {},
   "outputs": [
    {
     "data": {
      "text/plain": [
       "0    0\n",
       "1    1\n",
       "Name: flag, dtype: int32"
      ]
     },
     "execution_count": 40,
     "metadata": {},
     "output_type": "execute_result"
    }
   ],
   "source": [
    "Cust_Claims[\"flag\"] = np.where(Cust_Claims.police_report == \"Unknown\",1,0)\n",
    "Cust_Claims.flag.head(2)"
   ]
  },
  {
   "cell_type": "markdown",
   "id": "8b2d8416",
   "metadata": {},
   "source": [
    "###### One customer can claim for insurance more than once and in each claim, multiple categories of claims can be involved. However, customer ID should remain unique. Retain the most recent observation and delete any duplicated records in the data based on the customer ID column. "
   ]
  },
  {
   "cell_type": "code",
   "execution_count": 41,
   "id": "7fb0b310",
   "metadata": {},
   "outputs": [],
   "source": [
    "Cust_Claims= Cust_Claims.drop_duplicates(subset=\"customer_id\", keep= \"last\")"
   ]
  },
  {
   "cell_type": "code",
   "execution_count": 42,
   "id": "64c57f71",
   "metadata": {},
   "outputs": [
    {
     "data": {
      "text/plain": [
       "0"
      ]
     },
     "execution_count": 42,
     "metadata": {},
     "output_type": "execute_result"
    }
   ],
   "source": [
    "Cust_Claims.customer_id.duplicated().sum()"
   ]
  },
  {
   "cell_type": "markdown",
   "id": "2df1c8c8",
   "metadata": {},
   "source": [
    "###### Calculate the age of customers in years. Based on the age, categorize the customers according to the below criteria\n",
    "###### Children < 18\n",
    "###### Youth 18-30\n",
    "###### Adult 30-60\n",
    "###### Senior > 60"
   ]
  },
  {
   "cell_type": "code",
   "execution_count": 43,
   "id": "74eb2e1c",
   "metadata": {},
   "outputs": [
    {
     "data": {
      "text/plain": [
       "0    45\n",
       "Name: Age, dtype: int64"
      ]
     },
     "execution_count": 43,
     "metadata": {},
     "output_type": "execute_result"
    }
   ],
   "source": [
    "#Correcting the years of Customer Age \n",
    "current_year = pd.to_datetime('today').year\n",
    "dob_year = pd.DatetimeIndex(Cust_Claims['DateOfBirth']).year        \n",
    "s = dob_year-100                                               \n",
    "a = current_year - s\n",
    "t = current_year - dob_year\n",
    "Cust_Claims['Age'] = np.where(dob_year > current_year,a,t)\n",
    "Cust_Claims[\"Age\"].head(1)"
   ]
  },
  {
   "cell_type": "code",
   "execution_count": 46,
   "id": "0d09006a",
   "metadata": {},
   "outputs": [],
   "source": [
    "#Making Age_Grp to identify Children,Youth,Adult,Senior.\n",
    "Cust_Claims.loc[(Cust_Claims.Age<18),\"Age_Grp\"] = \"Children\"\n",
    "Cust_Claims.loc[(Cust_Claims.Age>=18) & (Cust_Claims.Age<=30),\"Age_Grp\"] = \"Youth\"\n",
    "Cust_Claims.loc[(Cust_Claims.Age >=30) & (Cust_Claims.Age <60),\"Age_Grp\"] = \"Adult\"\n",
    "Cust_Claims.loc[(Cust_Claims.Age >=60),\"Age_Grp\"] = \"Senior\""
   ]
  },
  {
   "cell_type": "code",
   "execution_count": 47,
   "id": "df264ccb",
   "metadata": {},
   "outputs": [
    {
     "data": {
      "text/plain": [
       "Adult     805\n",
       "Youth     141\n",
       "Senior    132\n",
       "Name: Age_Grp, dtype: int64"
      ]
     },
     "execution_count": 47,
     "metadata": {},
     "output_type": "execute_result"
    }
   ],
   "source": [
    "Cust_Claims.Age_Grp.value_counts()"
   ]
  },
  {
   "cell_type": "markdown",
   "id": "03d628ac",
   "metadata": {},
   "source": [
    "###### What is the average amount claimed by the customers from various segments?"
   ]
  },
  {
   "cell_type": "code",
   "execution_count": 48,
   "id": "084ff204",
   "metadata": {},
   "outputs": [
    {
     "data": {
      "text/html": [
       "<div>\n",
       "<style scoped>\n",
       "    .dataframe tbody tr th:only-of-type {\n",
       "        vertical-align: middle;\n",
       "    }\n",
       "\n",
       "    .dataframe tbody tr th {\n",
       "        vertical-align: top;\n",
       "    }\n",
       "\n",
       "    .dataframe thead th {\n",
       "        text-align: right;\n",
       "    }\n",
       "</style>\n",
       "<table border=\"1\" class=\"dataframe\">\n",
       "  <thead>\n",
       "    <tr style=\"text-align: right;\">\n",
       "      <th></th>\n",
       "      <th>claim_amount</th>\n",
       "    </tr>\n",
       "    <tr>\n",
       "      <th>Segment</th>\n",
       "      <th></th>\n",
       "    </tr>\n",
       "  </thead>\n",
       "  <tbody>\n",
       "    <tr>\n",
       "      <th>Gold</th>\n",
       "      <td>12844.381375</td>\n",
       "    </tr>\n",
       "    <tr>\n",
       "      <th>Platinum</th>\n",
       "      <td>12370.240223</td>\n",
       "    </tr>\n",
       "    <tr>\n",
       "      <th>Silver</th>\n",
       "      <td>12264.410631</td>\n",
       "    </tr>\n",
       "  </tbody>\n",
       "</table>\n",
       "</div>"
      ],
      "text/plain": [
       "          claim_amount\n",
       "Segment               \n",
       "Gold      12844.381375\n",
       "Platinum  12370.240223\n",
       "Silver    12264.410631"
      ]
     },
     "execution_count": 48,
     "metadata": {},
     "output_type": "execute_result"
    }
   ],
   "source": [
    "Cust_Claims.groupby(\"Segment\")[[\"claim_amount\"]].mean()"
   ]
  },
  {
   "cell_type": "markdown",
   "id": "d650b1d9",
   "metadata": {},
   "source": [
    "###### What is the total claim amount based on incident cause for all the claims that have been done at least 20 days prior to 1st of October, 2018."
   ]
  },
  {
   "cell_type": "code",
   "execution_count": 49,
   "id": "77905882",
   "metadata": {},
   "outputs": [
    {
     "data": {
      "text/html": [
       "<div>\n",
       "<style scoped>\n",
       "    .dataframe tbody tr th:only-of-type {\n",
       "        vertical-align: middle;\n",
       "    }\n",
       "\n",
       "    .dataframe tbody tr th {\n",
       "        vertical-align: top;\n",
       "    }\n",
       "\n",
       "    .dataframe thead th {\n",
       "        text-align: right;\n",
       "    }\n",
       "</style>\n",
       "<table border=\"1\" class=\"dataframe\">\n",
       "  <thead>\n",
       "    <tr style=\"text-align: right;\">\n",
       "      <th></th>\n",
       "      <th></th>\n",
       "      <th>claim_amount</th>\n",
       "    </tr>\n",
       "    <tr>\n",
       "      <th>incident_cause</th>\n",
       "      <th>claim_type</th>\n",
       "      <th></th>\n",
       "    </tr>\n",
       "  </thead>\n",
       "  <tbody>\n",
       "    <tr>\n",
       "      <th rowspan=\"3\" valign=\"top\">Crime</th>\n",
       "      <th>Injury only</th>\n",
       "      <td>306308.50</td>\n",
       "    </tr>\n",
       "    <tr>\n",
       "      <th>Material and injury</th>\n",
       "      <td>203827.50</td>\n",
       "    </tr>\n",
       "    <tr>\n",
       "      <th>Material only</th>\n",
       "      <td>218472.41</td>\n",
       "    </tr>\n",
       "    <tr>\n",
       "      <th rowspan=\"3\" valign=\"top\">Driver error</th>\n",
       "      <th>Injury only</th>\n",
       "      <td>1173607.73</td>\n",
       "    </tr>\n",
       "    <tr>\n",
       "      <th>Material and injury</th>\n",
       "      <td>1801847.68</td>\n",
       "    </tr>\n",
       "    <tr>\n",
       "      <th>Material only</th>\n",
       "      <td>354584.45</td>\n",
       "    </tr>\n",
       "    <tr>\n",
       "      <th rowspan=\"3\" valign=\"top\">Natural causes</th>\n",
       "      <th>Injury only</th>\n",
       "      <td>411702.18</td>\n",
       "    </tr>\n",
       "    <tr>\n",
       "      <th>Material and injury</th>\n",
       "      <td>555043.18</td>\n",
       "    </tr>\n",
       "    <tr>\n",
       "      <th>Material only</th>\n",
       "      <td>354113.27</td>\n",
       "    </tr>\n",
       "    <tr>\n",
       "      <th rowspan=\"3\" valign=\"top\">Other causes</th>\n",
       "      <th>Injury only</th>\n",
       "      <td>1603246.73</td>\n",
       "    </tr>\n",
       "    <tr>\n",
       "      <th>Material and injury</th>\n",
       "      <td>1956734.73</td>\n",
       "    </tr>\n",
       "    <tr>\n",
       "      <th>Material only</th>\n",
       "      <td>409747.18</td>\n",
       "    </tr>\n",
       "    <tr>\n",
       "      <th rowspan=\"3\" valign=\"top\">Other driver error</th>\n",
       "      <th>Injury only</th>\n",
       "      <td>1284780.86</td>\n",
       "    </tr>\n",
       "    <tr>\n",
       "      <th>Material and injury</th>\n",
       "      <td>1726164.41</td>\n",
       "    </tr>\n",
       "    <tr>\n",
       "      <th>Material only</th>\n",
       "      <td>313748.09</td>\n",
       "    </tr>\n",
       "  </tbody>\n",
       "</table>\n",
       "</div>"
      ],
      "text/plain": [
       "                                        claim_amount\n",
       "incident_cause     claim_type                       \n",
       "Crime              Injury only             306308.50\n",
       "                   Material and injury     203827.50\n",
       "                   Material only           218472.41\n",
       "Driver error       Injury only            1173607.73\n",
       "                   Material and injury    1801847.68\n",
       "                   Material only           354584.45\n",
       "Natural causes     Injury only             411702.18\n",
       "                   Material and injury     555043.18\n",
       "                   Material only           354113.27\n",
       "Other causes       Injury only            1603246.73\n",
       "                   Material and injury    1956734.73\n",
       "                   Material only           409747.18\n",
       "Other driver error Injury only            1284780.86\n",
       "                   Material and injury    1726164.41\n",
       "                   Material only           313748.09"
      ]
     },
     "execution_count": 49,
     "metadata": {},
     "output_type": "execute_result"
    }
   ],
   "source": [
    "round(Cust_Claims.loc[Cust_Claims.claim_date< \"2018-10-01\"].groupby([\"incident_cause\",\"claim_type\"])[[\"claim_amount\"]].sum(),2)"
   ]
  },
  {
   "cell_type": "markdown",
   "id": "d4ccd3ab",
   "metadata": {},
   "source": [
    "###### How many adults from TX, DE and AK claimed insurance for driver related issues and causes?"
   ]
  },
  {
   "cell_type": "code",
   "execution_count": 50,
   "id": "74b3ffe6",
   "metadata": {},
   "outputs": [
    {
     "data": {
      "text/plain": [
       "State\n",
       "AK    10\n",
       "DE    15\n",
       "TX    10\n",
       "Name: claim_amount, dtype: int64"
      ]
     },
     "execution_count": 50,
     "metadata": {},
     "output_type": "execute_result"
    }
   ],
   "source": [
    "Cust_Claims.loc[(Cust_Claims.incident_cause.str.lower().str.contains(\"driver\") & ((Cust_Claims.State == \"TX\") | (Cust_Claims.State == \"DE\") | (Cust_Claims.State == \"AK\"))),:].groupby(\"State\")[\"claim_amount\"].count() "
   ]
  },
  {
   "cell_type": "markdown",
   "id": "847981f2",
   "metadata": {},
   "source": [
    "###### Draw a pie chart between the aggregated value of claim amount based on gender and segment. Represent the claim amount as a percentage on the pie chart."
   ]
  },
  {
   "cell_type": "code",
   "execution_count": 52,
   "id": "968e7b8b",
   "metadata": {},
   "outputs": [
    {
     "data": {
      "text/html": [
       "<div>\n",
       "<style scoped>\n",
       "    .dataframe tbody tr th:only-of-type {\n",
       "        vertical-align: middle;\n",
       "    }\n",
       "\n",
       "    .dataframe tbody tr th {\n",
       "        vertical-align: top;\n",
       "    }\n",
       "\n",
       "    .dataframe thead th {\n",
       "        text-align: right;\n",
       "    }\n",
       "</style>\n",
       "<table border=\"1\" class=\"dataframe\">\n",
       "  <thead>\n",
       "    <tr style=\"text-align: right;\">\n",
       "      <th></th>\n",
       "      <th></th>\n",
       "      <th>claim_amount</th>\n",
       "    </tr>\n",
       "    <tr>\n",
       "      <th>gender</th>\n",
       "      <th>Segment</th>\n",
       "      <th></th>\n",
       "    </tr>\n",
       "  </thead>\n",
       "  <tbody>\n",
       "    <tr>\n",
       "      <th rowspan=\"3\" valign=\"top\">Female</th>\n",
       "      <th>Gold</th>\n",
       "      <td>2.109738e+06</td>\n",
       "    </tr>\n",
       "    <tr>\n",
       "      <th>Platinum</th>\n",
       "      <td>2.369484e+06</td>\n",
       "    </tr>\n",
       "    <tr>\n",
       "      <th>Silver</th>\n",
       "      <td>1.896862e+06</td>\n",
       "    </tr>\n",
       "    <tr>\n",
       "      <th rowspan=\"3\" valign=\"top\">Male</th>\n",
       "      <th>Gold</th>\n",
       "      <td>2.655527e+06</td>\n",
       "    </tr>\n",
       "    <tr>\n",
       "      <th>Platinum</th>\n",
       "      <td>2.096173e+06</td>\n",
       "    </tr>\n",
       "    <tr>\n",
       "      <th>Silver</th>\n",
       "      <td>2.346624e+06</td>\n",
       "    </tr>\n",
       "  </tbody>\n",
       "</table>\n",
       "</div>"
      ],
      "text/plain": [
       "                 claim_amount\n",
       "gender Segment               \n",
       "Female Gold      2.109738e+06\n",
       "       Platinum  2.369484e+06\n",
       "       Silver    1.896862e+06\n",
       "Male   Gold      2.655527e+06\n",
       "       Platinum  2.096173e+06\n",
       "       Silver    2.346624e+06"
      ]
     },
     "execution_count": 52,
     "metadata": {},
     "output_type": "execute_result"
    }
   ],
   "source": [
    "grouped = Cust_Claims.groupby(['gender', 'Segment'])[[\"claim_amount\"]].sum()\n",
    "grouped"
   ]
  },
  {
   "cell_type": "code",
   "execution_count": 53,
   "id": "758341f8",
   "metadata": {},
   "outputs": [
    {
     "data": {
      "image/png": "[encoded data removed]",
      "text/plain": [
       "<Figure size 800x600 with 1 Axes>"
      ]
     },
     "metadata": {},
     "output_type": "display_data"
    }
   ],
   "source": [
    "# Plotting\n",
    "labels = []\n",
    "sizes = []\n",
    "for label, size in grouped['claim_amount'].items():\n",
    "    labels.append(label)\n",
    "    sizes.append(size)\n",
    "\n",
    "plt.figure(figsize=(8, 6))\n",
    "plt.pie(sizes, labels=labels, autopct='%1.1f%%', startangle=140)\n",
    "plt.title('Claim Amount Distribution by Gender and Segment')\n",
    "plt.show()"
   ]
  },
  {
   "cell_type": "markdown",
   "id": "05b4f255",
   "metadata": {},
   "source": [
    "###### Among males and females, which gender had claimed the most for any type of driver related issues? E.g. This metric can be compared using a bar chart"
   ]
  },
  {
   "cell_type": "code",
   "execution_count": 54,
   "id": "c4077cdd",
   "metadata": {},
   "outputs": [],
   "source": [
    "gender_claim_amount = round(Cust_Claims.loc[Cust_Claims.incident_cause.str.lower().str.contains(\"driver\"),:].groupby([\"gender\"])[[\"claim_amount\"]].sum(),2)"
   ]
  },
  {
   "cell_type": "code",
   "execution_count": 55,
   "id": "16680080",
   "metadata": {},
   "outputs": [
    {
     "data": {
      "text/plain": [
       "<Figure size 1000x600 with 0 Axes>"
      ]
     },
     "metadata": {},
     "output_type": "display_data"
    },
    {
     "data": {
      "image/png": "[encoded data removed]",
      "text/plain": [
       "<Figure size 640x480 with 1 Axes>"
      ]
     },
     "metadata": {},
     "output_type": "display_data"
    }
   ],
   "source": [
    "plt.figure(figsize=(10, 6))\n",
    "gender_claim_amount.plot(kind=\"bar\",color=\"k\",legend = False)\n",
    "plt.title(\"Total Claim Amount for Driver-Related Issues by Gender\")\n",
    "plt.xlabel(\"Gender\")\n",
    "plt.ylabel(\"Total Claim Amount\")\n",
    "plt.xticks(rotation=0)\n",
    "plt.show()"
   ]
  },
  {
   "cell_type": "markdown",
   "id": "cda21837",
   "metadata": {},
   "source": [
    "###### Which age group had the maximum fraudulent policy claims? Visualize it on a bar chart."
   ]
  },
  {
   "cell_type": "code",
   "execution_count": 56,
   "id": "5877ad14",
   "metadata": {},
   "outputs": [],
   "source": [
    "agegrp_frad_policy = Cust_Claims.groupby([\"Age_Grp\",\"fraudulent\"])[[\"total_policy_claims\"]].count()"
   ]
  },
  {
   "cell_type": "code",
   "execution_count": 57,
   "id": "227c71ef",
   "metadata": {},
   "outputs": [
    {
     "data": {
      "text/plain": [
       "<Figure size 1000x600 with 0 Axes>"
      ]
     },
     "metadata": {},
     "output_type": "display_data"
    },
    {
     "data": {
      "image/png": "[encoded data removed]",
      "text/plain": [
       "<Figure size 640x480 with 1 Axes>"
      ]
     },
     "metadata": {},
     "output_type": "display_data"
    }
   ],
   "source": [
    "plt.figure(figsize=(10, 6))\n",
    "agegrp_frad_policy.plot(kind=\"bar\",legend =False,color=\"k\")\n",
    "plt.title(\"Total policy claims related fraudulent by Age Group\")\n",
    "plt.xlabel(\"Age_Group\",)\n",
    "plt.ylabel(\"Total policy claims\")\n",
    "plt.xticks(rotation=45)\n",
    "plt.show()"
   ]
  },
  {
   "cell_type": "markdown",
   "id": "5bc6d833",
   "metadata": {},
   "source": [
    "###### Visualize the monthly trend of the total amount that has been claimed by the customers. Ensure that on the “month” axis, the month is in a chronological order not alphabetical order."
   ]
  },
  {
   "cell_type": "code",
   "execution_count": 58,
   "id": "c8d0c96f",
   "metadata": {},
   "outputs": [],
   "source": [
    "Cust_Claims[\"Month\"] = Cust_Claims[\"claim_date\"].dt.month"
   ]
  },
  {
   "cell_type": "code",
   "execution_count": 59,
   "id": "b47fe8a3",
   "metadata": {},
   "outputs": [],
   "source": [
    "monthly_claim_amount = round(Cust_Claims.groupby(\"Month\")[[\"claim_amount\"]].sum(),2)"
   ]
  },
  {
   "cell_type": "code",
   "execution_count": 60,
   "id": "43171217",
   "metadata": {},
   "outputs": [
    {
     "data": {
      "text/plain": [
       "<Figure size 1000x600 with 0 Axes>"
      ]
     },
     "metadata": {},
     "output_type": "display_data"
    },
    {
     "data": {
      "image/png": "[encoded data removed]",
      "text/plain": [
       "<Figure size 640x480 with 1 Axes>"
      ]
     },
     "metadata": {},
     "output_type": "display_data"
    }
   ],
   "source": [
    "plt.figure(figsize=(10, 6))\n",
    "monthly_claim_amount.plot(kind=\"line\", marker=\"o\", color=\"k\")\n",
    "plt.title(\"Monthly Trend of Total Claim Amount\")\n",
    "plt.xlabel(\"Month\")\n",
    "plt.ylabel(\"Total Claim Amount\")\n",
    "#plt.xticks(range(1, 13))\n",
    "plt.grid(True)\n",
    "plt.show()"
   ]
  },
  {
   "cell_type": "markdown",
   "id": "aecf1797",
   "metadata": {},
   "source": [
    "###### What is the average claim amount for gender and age categories and suitably represent the above using a facetted bar chart, one facet that represents fraudulent claims and the other for non-fraudulent claims. "
   ]
  },
  {
   "cell_type": "code",
   "execution_count": 61,
   "id": "0befbdd6",
   "metadata": {},
   "outputs": [
    {
     "data": {
      "text/html": [
       "<div>\n",
       "<style scoped>\n",
       "    .dataframe tbody tr th:only-of-type {\n",
       "        vertical-align: middle;\n",
       "    }\n",
       "\n",
       "    .dataframe tbody tr th {\n",
       "        vertical-align: top;\n",
       "    }\n",
       "\n",
       "    .dataframe thead th {\n",
       "        text-align: right;\n",
       "    }\n",
       "</style>\n",
       "<table border=\"1\" class=\"dataframe\">\n",
       "  <thead>\n",
       "    <tr style=\"text-align: right;\">\n",
       "      <th></th>\n",
       "      <th>claim_id</th>\n",
       "      <th>customer_id</th>\n",
       "      <th>incident_cause</th>\n",
       "      <th>claim_date</th>\n",
       "      <th>claim_area</th>\n",
       "      <th>police_report</th>\n",
       "      <th>claim_type</th>\n",
       "      <th>claim_amount</th>\n",
       "      <th>total_policy_claims</th>\n",
       "      <th>fraudulent</th>\n",
       "      <th>CUST_ID</th>\n",
       "      <th>gender</th>\n",
       "      <th>DateOfBirth</th>\n",
       "      <th>State</th>\n",
       "      <th>Contact</th>\n",
       "      <th>Segment</th>\n",
       "      <th>flag</th>\n",
       "      <th>Age</th>\n",
       "      <th>Age_Grp</th>\n",
       "      <th>Month</th>\n",
       "    </tr>\n",
       "  </thead>\n",
       "  <tbody>\n",
       "    <tr>\n",
       "      <th>0</th>\n",
       "      <td>54004764</td>\n",
       "      <td>21868593</td>\n",
       "      <td>Driver error</td>\n",
       "      <td>2017-11-27</td>\n",
       "      <td>Auto</td>\n",
       "      <td>No</td>\n",
       "      <td>Material only</td>\n",
       "      <td>2980.0</td>\n",
       "      <td>1.0</td>\n",
       "      <td>No</td>\n",
       "      <td>21868593</td>\n",
       "      <td>Female</td>\n",
       "      <td>1979-01-12</td>\n",
       "      <td>VT</td>\n",
       "      <td>7899168172</td>\n",
       "      <td>Platinum</td>\n",
       "      <td>0</td>\n",
       "      <td>45</td>\n",
       "      <td>Adult</td>\n",
       "      <td>11</td>\n",
       "    </tr>\n",
       "  </tbody>\n",
       "</table>\n",
       "</div>"
      ],
      "text/plain": [
       "   claim_id  customer_id incident_cause claim_date claim_area police_report  \\\n",
       "0  54004764     21868593   Driver error 2017-11-27       Auto            No   \n",
       "\n",
       "      claim_type  claim_amount  total_policy_claims fraudulent   CUST_ID  \\\n",
       "0  Material only        2980.0                  1.0         No  21868593   \n",
       "\n",
       "   gender DateOfBirth State     Contact   Segment  flag  Age Age_Grp  Month  \n",
       "0  Female  1979-01-12    VT  7899168172  Platinum     0   45   Adult     11  "
      ]
     },
     "execution_count": 61,
     "metadata": {},
     "output_type": "execute_result"
    }
   ],
   "source": [
    "Cust_Claims.head(1)"
   ]
  },
  {
   "cell_type": "code",
   "execution_count": 62,
   "id": "737b31fd",
   "metadata": {},
   "outputs": [],
   "source": [
    "Avg_claim_amount = Cust_Claims.groupby([\"gender\",\"Age_Grp\",\"fraudulent\"])[[\"claim_amount\"]].mean().reset_index()"
   ]
  },
  {
   "cell_type": "code",
   "execution_count": 63,
   "id": "12e78bfc",
   "metadata": {},
   "outputs": [
    {
     "data": {
      "image/png": "[encoded data removed]",
      "text/plain": [
       "<Figure size 1094.12x500 with 2 Axes>"
      ]
     },
     "metadata": {},
     "output_type": "display_data"
    }
   ],
   "source": [
    "g = sns.FacetGrid(Avg_claim_amount, col=\"fraudulent\", height=5, aspect=1)\n",
    "g.map_dataframe(sns.barplot, x=\"gender\", y=\"claim_amount\", hue=\"Age_Grp\", palette=\"icefire\")# \n",
    "g.set_axis_labels(\"Gender\", \"Average Claim Amount\")\n",
    "g.set_titles(\"{col_name} Claims\")\n",
    "g.add_legend()\n",
    "plt.show()"
   ]
  },
  {
   "cell_type": "markdown",
   "id": "af85dedc",
   "metadata": {},
   "source": [
    "### Based on the conclusions from exploratory analysis as well as suitable statistical tests, answer the below questions. Please include a detailed write-up on the parameters taken into consideration, the Hypothesis testing steps, conclusion from the p-values and the business implications of the statements."
   ]
  },
  {
   "cell_type": "markdown",
   "id": "29793c6c",
   "metadata": {},
   "source": [
    "###### Is there any similarity in the amount claimed by males and females?"
   ]
  },
  {
   "cell_type": "raw",
   "id": "6e73054f",
   "metadata": {},
   "source": [
    "Ho:There is no similarity amount claimed by males and females.\n",
    "Ha:There is a similarity amount claimed by males and females."
   ]
  },
  {
   "cell_type": "raw",
   "id": "8dd9f2cf",
   "metadata": {},
   "source": [
    "Confidence - 95%\n",
    "significance - 5%\n",
    "pcritical - 0.05"
   ]
  },
  {
   "cell_type": "raw",
   "id": "8c24dc76",
   "metadata": {},
   "source": [
    "we will do t-test."
   ]
  },
  {
   "cell_type": "code",
   "execution_count": 66,
   "id": "d27fd64f",
   "metadata": {},
   "outputs": [],
   "source": [
    "female=Cust_Claims[Cust_Claims.gender==\"Female\"].claim_amount\n",
    "male=Cust_Claims[Cust_Claims.gender==\"Male\"].claim_amount"
   ]
  },
  {
   "cell_type": "code",
   "execution_count": 67,
   "id": "1cb86934",
   "metadata": {},
   "outputs": [
    {
     "data": {
      "text/plain": [
       "Ttest_indResult(statistic=-0.9626244628836415, pvalue=0.3359522932161124)"
      ]
     },
     "execution_count": 67,
     "metadata": {},
     "output_type": "execute_result"
    }
   ],
   "source": [
    "t= stats.ttest_ind(female,male)\n",
    "t"
   ]
  },
  {
   "cell_type": "code",
   "execution_count": 71,
   "id": "476d989c",
   "metadata": {},
   "outputs": [],
   "source": [
    "pvalue=0.3359522932161124\n",
    "pcritical = 0.05\n",
    "statistic=-0.9626244628836415"
   ]
  },
  {
   "cell_type": "code",
   "execution_count": 72,
   "id": "1273d023",
   "metadata": {},
   "outputs": [
    {
     "data": {
      "text/plain": [
       "True"
      ]
     },
     "execution_count": 72,
     "metadata": {},
     "output_type": "execute_result"
    }
   ],
   "source": [
    "pvalue>pcritical"
   ]
  },
  {
   "cell_type": "raw",
   "id": "01d0beaf",
   "metadata": {},
   "source": [
    "p is high null will fly means pvalue is greater than pcritical so its fail to reject the null hypothesis."
   ]
  },
  {
   "cell_type": "raw",
   "id": "5d9ae8ca",
   "metadata": {},
   "source": [
    "Conclusion: Pvalue is > 0.05. Hence we accept Null Hypothesis Ho and There is no similarity for the amount claimed by males and females"
   ]
  },
  {
   "cell_type": "markdown",
   "id": "5224800d",
   "metadata": {},
   "source": [
    "###### Is there any relationship between age category and segment?"
   ]
  },
  {
   "cell_type": "raw",
   "id": "183a0914",
   "metadata": {},
   "source": [
    "Ho:There is no relationship between age category and segment.\n",
    "Ha:There is a relationship betweem age category and segment."
   ]
  },
  {
   "cell_type": "raw",
   "id": "8a63aa55",
   "metadata": {},
   "source": [
    "Confidence -95%\n",
    "Significance- 5%\n",
    "pcritical - 0.05"
   ]
  },
  {
   "cell_type": "raw",
   "id": "91628c82",
   "metadata": {},
   "source": [
    "we will do chi-square test."
   ]
  },
  {
   "cell_type": "code",
   "execution_count": 79,
   "id": "c6f8b47a",
   "metadata": {},
   "outputs": [
    {
     "data": {
      "text/html": [
       "<div>\n",
       "<style scoped>\n",
       "    .dataframe tbody tr th:only-of-type {\n",
       "        vertical-align: middle;\n",
       "    }\n",
       "\n",
       "    .dataframe tbody tr th {\n",
       "        vertical-align: top;\n",
       "    }\n",
       "\n",
       "    .dataframe thead th {\n",
       "        text-align: right;\n",
       "    }\n",
       "</style>\n",
       "<table border=\"1\" class=\"dataframe\">\n",
       "  <thead>\n",
       "    <tr style=\"text-align: right;\">\n",
       "      <th>Age_Grp</th>\n",
       "      <th>Adult</th>\n",
       "      <th>Senior</th>\n",
       "      <th>Youth</th>\n",
       "    </tr>\n",
       "    <tr>\n",
       "      <th>Segment</th>\n",
       "      <th></th>\n",
       "      <th></th>\n",
       "      <th></th>\n",
       "    </tr>\n",
       "  </thead>\n",
       "  <tbody>\n",
       "    <tr>\n",
       "      <th>Gold</th>\n",
       "      <td>278</td>\n",
       "      <td>45</td>\n",
       "      <td>48</td>\n",
       "    </tr>\n",
       "    <tr>\n",
       "      <th>Platinum</th>\n",
       "      <td>270</td>\n",
       "      <td>47</td>\n",
       "      <td>44</td>\n",
       "    </tr>\n",
       "    <tr>\n",
       "      <th>Silver</th>\n",
       "      <td>257</td>\n",
       "      <td>40</td>\n",
       "      <td>49</td>\n",
       "    </tr>\n",
       "  </tbody>\n",
       "</table>\n",
       "</div>"
      ],
      "text/plain": [
       "Age_Grp   Adult  Senior  Youth\n",
       "Segment                       \n",
       "Gold        278      45     48\n",
       "Platinum    270      47     44\n",
       "Silver      257      40     49"
      ]
     },
     "execution_count": 79,
     "metadata": {},
     "output_type": "execute_result"
    }
   ],
   "source": [
    "observed = pd.crosstab(Cust_Claims.Segment,Cust_Claims.Age_Grp)\n",
    "observed"
   ]
  },
  {
   "cell_type": "code",
   "execution_count": 80,
   "id": "733820e3",
   "metadata": {},
   "outputs": [
    {
     "data": {
      "text/plain": [
       "(0.8591966330667937,\n",
       " 0.9303403339916204,\n",
       " 4,\n",
       " array([[277.04545455,  45.42857143,  48.52597403],\n",
       "        [269.57792208,  44.20408163,  47.21799629],\n",
       "        [258.37662338,  42.36734694,  45.25602968]]))"
      ]
     },
     "execution_count": 80,
     "metadata": {},
     "output_type": "execute_result"
    }
   ],
   "source": [
    "t1 = stats.chi2_contingency(observed)\n",
    "t1"
   ]
  },
  {
   "cell_type": "code",
   "execution_count": 81,
   "id": "9917f166",
   "metadata": {},
   "outputs": [],
   "source": [
    "pvalue = 0.9303403339916205\n",
    "pcitical = 0.05\n",
    "Statistic = 0.8591966330667935"
   ]
  },
  {
   "cell_type": "code",
   "execution_count": 82,
   "id": "699d655f",
   "metadata": {},
   "outputs": [
    {
     "data": {
      "text/plain": [
       "True"
      ]
     },
     "execution_count": 82,
     "metadata": {},
     "output_type": "execute_result"
    }
   ],
   "source": [
    "pvalue>pcritical"
   ]
  },
  {
   "cell_type": "raw",
   "id": "17bf9c23",
   "metadata": {},
   "source": [
    "p is high null will fly means pvalue is greater than pcritical so its fail to reject the null hypothesis."
   ]
  },
  {
   "cell_type": "raw",
   "id": "4186e4c6",
   "metadata": {},
   "source": [
    "Conclusion :Pvalue is > 0.05. Hence we accept Null Hypothesis Ho and There is no relationship between age category and segment"
   ]
  },
  {
   "cell_type": "markdown",
   "id": "2cda058e",
   "metadata": {},
   "source": [
    "###### The current year has shown a significant rise in claim amounts as compared to 2016-17 fiscal average which was $10,000."
   ]
  },
  {
   "cell_type": "code",
   "execution_count": 87,
   "id": "071e3590",
   "metadata": {},
   "outputs": [],
   "source": [
    "Cust_Claims[\"Year\"]= Cust_Claims['claim_date'].dt.year"
   ]
  },
  {
   "cell_type": "code",
   "execution_count": 90,
   "id": "f73f49b0",
   "metadata": {},
   "outputs": [
    {
     "data": {
      "text/html": [
       "<div>\n",
       "<style scoped>\n",
       "    .dataframe tbody tr th:only-of-type {\n",
       "        vertical-align: middle;\n",
       "    }\n",
       "\n",
       "    .dataframe tbody tr th {\n",
       "        vertical-align: top;\n",
       "    }\n",
       "\n",
       "    .dataframe thead th {\n",
       "        text-align: right;\n",
       "    }\n",
       "</style>\n",
       "<table border=\"1\" class=\"dataframe\">\n",
       "  <thead>\n",
       "    <tr style=\"text-align: right;\">\n",
       "      <th></th>\n",
       "      <th>Year</th>\n",
       "      <th>claim_amount</th>\n",
       "    </tr>\n",
       "  </thead>\n",
       "  <tbody>\n",
       "    <tr>\n",
       "      <th>0</th>\n",
       "      <td>2017</td>\n",
       "      <td>7296678.62</td>\n",
       "    </tr>\n",
       "    <tr>\n",
       "      <th>1</th>\n",
       "      <td>2018</td>\n",
       "      <td>6177729.67</td>\n",
       "    </tr>\n",
       "  </tbody>\n",
       "</table>\n",
       "</div>"
      ],
      "text/plain": [
       "   Year  claim_amount\n",
       "0  2017    7296678.62\n",
       "1  2018    6177729.67"
      ]
     },
     "execution_count": 90,
     "metadata": {},
     "output_type": "execute_result"
    }
   ],
   "source": [
    "round(Cust_Claims.groupby(\"Year\")[[\"claim_amount\"]].sum().reset_index(),2)"
   ]
  },
  {
   "cell_type": "raw",
   "id": "ee7af325",
   "metadata": {},
   "source": [
    "Ho: The claim amount in the current year is equal to $10,000.\n",
    "Ha: The claim amount in the current year is not equal to $10,000."
   ]
  },
  {
   "cell_type": "raw",
   "id": "9f0151dd",
   "metadata": {},
   "source": [
    "Confidence -95%\n",
    "Significance- 5%\n",
    "pcritical - 0.05"
   ]
  },
  {
   "cell_type": "raw",
   "id": "00639b3e",
   "metadata": {},
   "source": [
    "we will do t-test."
   ]
  },
  {
   "cell_type": "code",
   "execution_count": 92,
   "id": "555fcab5",
   "metadata": {},
   "outputs": [
    {
     "data": {
      "text/plain": [
       "Ttest_1sampResult(statistic=-526686.7734844973, pvalue=0.0)"
      ]
     },
     "execution_count": 92,
     "metadata": {},
     "output_type": "execute_result"
    }
   ],
   "source": [
    "t2 = stats.ttest_1samp(Cust_Claims.Year,10000)\n",
    "t2"
   ]
  },
  {
   "cell_type": "code",
   "execution_count": 93,
   "id": "82d4d495",
   "metadata": {},
   "outputs": [],
   "source": [
    "pvalue=0.0\n",
    "pcritical =0.05\n",
    "statistic=-526686.7734844973"
   ]
  },
  {
   "cell_type": "code",
   "execution_count": 94,
   "id": "a7680641",
   "metadata": {},
   "outputs": [
    {
     "data": {
      "text/plain": [
       "False"
      ]
     },
     "execution_count": 94,
     "metadata": {},
     "output_type": "execute_result"
    }
   ],
   "source": [
    "pvalue>pcritical"
   ]
  },
  {
   "cell_type": "raw",
   "id": "befa3f74",
   "metadata": {},
   "source": [
    "p is low null will go means pvalue is lesser than pcritical so its reject the null hypothesis."
   ]
  },
  {
   "cell_type": "raw",
   "id": "9ef69400",
   "metadata": {},
   "source": [
    "Conclusion:Pvalue is < 0.05. Hence we reject Null Hypothesis Ho And there is Rise on Claims Amount has increased from last year spend of $10,000.\n"
   ]
  },
  {
   "cell_type": "markdown",
   "id": "a0be442e",
   "metadata": {},
   "source": [
    "###### Is there any difference between age groups and insurance claims?"
   ]
  },
  {
   "cell_type": "code",
   "execution_count": 96,
   "id": "ef9df4a4",
   "metadata": {},
   "outputs": [
    {
     "data": {
      "text/plain": [
       "Adult     805\n",
       "Youth     141\n",
       "Senior    132\n",
       "Name: Age_Grp, dtype: int64"
      ]
     },
     "execution_count": 96,
     "metadata": {},
     "output_type": "execute_result"
    }
   ],
   "source": [
    "Cust_Claims.Age_Grp.value_counts()"
   ]
  },
  {
   "cell_type": "raw",
   "id": "ac83e9b9",
   "metadata": {},
   "source": [
    "Ho:There is no differnece between age groups and insurance claims\n",
    "Ha:There is some difference between age groups and insurance claims"
   ]
  },
  {
   "cell_type": "raw",
   "id": "10b56823",
   "metadata": {},
   "source": [
    "ConConfidence -95%\n",
    "Significance- 5%\n",
    "pcritical - 0.05"
   ]
  },
  {
   "cell_type": "code",
   "execution_count": 101,
   "id": "aa066966",
   "metadata": {},
   "outputs": [],
   "source": [
    "Adult =Cust_Claims[Cust_Claims.Age_Grp ==\"Adult\"].total_policy_claims\n",
    "Youth =Cust_Claims[Cust_Claims.Age_Grp ==\"Youth\"].total_policy_claims\n",
    "Senior =Cust_Claims[Cust_Claims.Age_Grp ==\"Senior\"].total_policy_claims"
   ]
  },
  {
   "cell_type": "code",
   "execution_count": 102,
   "id": "6940c486",
   "metadata": {},
   "outputs": [
    {
     "data": {
      "text/plain": [
       "F_onewayResult(statistic=0.39304909857794307, pvalue=0.6750925683548596)"
      ]
     },
     "execution_count": 102,
     "metadata": {},
     "output_type": "execute_result"
    }
   ],
   "source": [
    "t3 = stats.f_oneway(Adult,Youth,Senior)\n",
    "t3"
   ]
  },
  {
   "cell_type": "code",
   "execution_count": 103,
   "id": "d12f4b68",
   "metadata": {},
   "outputs": [],
   "source": [
    "pvalue=0.6750925683548596\n",
    "pcritical = 0.05\n",
    "statistic=0.39304909857794307"
   ]
  },
  {
   "cell_type": "code",
   "execution_count": 104,
   "id": "2dda330e",
   "metadata": {},
   "outputs": [
    {
     "data": {
      "text/plain": [
       "True"
      ]
     },
     "execution_count": 104,
     "metadata": {},
     "output_type": "execute_result"
    }
   ],
   "source": [
    "pvalue>pcritical"
   ]
  },
  {
   "cell_type": "raw",
   "id": "333caede",
   "metadata": {},
   "source": [
    "p is high null will fly means pvalue is greater than pcritical so its fail to reject the null hypothesis."
   ]
  },
  {
   "cell_type": "raw",
   "id": "df16714c",
   "metadata": {},
   "source": [
    "Conclusion : Pvalue is > 0.05. Hence we accept Null Hypothesis Ho and There is no difference between age groups and insurance claims"
   ]
  },
  {
   "cell_type": "markdown",
   "id": "997908ac",
   "metadata": {},
   "source": [
    "###### Is there any relationship between total number of policy claims and the claimed amount?"
   ]
  },
  {
   "cell_type": "code",
   "execution_count": 139,
   "id": "9b6e2565",
   "metadata": {},
   "outputs": [
    {
     "data": {
      "text/plain": [
       "1.0    785\n",
       "2.0    105\n",
       "3.0     86\n",
       "4.0     59\n",
       "5.0     27\n",
       "6.0     10\n",
       "7.0      2\n",
       "8.0      1\n",
       "Name: total_policy_claims, dtype: int64"
      ]
     },
     "execution_count": 139,
     "metadata": {},
     "output_type": "execute_result"
    }
   ],
   "source": [
    "Cust_Claims.total_policy_claims.value_counts()"
   ]
  },
  {
   "cell_type": "raw",
   "id": "beaf9c03",
   "metadata": {},
   "source": [
    "Ho:There is no relationship between total number of policy claims and the claimed amount\n",
    "Ha:There is a relationship between total number of policy claims and the claimed amount`"
   ]
  },
  {
   "cell_type": "raw",
   "id": "868d946d",
   "metadata": {},
   "source": [
    "ConConfidence -95%\n",
    "Significance- 5%\n",
    "pcritical - 0.05"
   ]
  },
  {
   "cell_type": "code",
   "execution_count": 141,
   "id": "fba835cf",
   "metadata": {},
   "outputs": [],
   "source": [
    "a1=Cust_Claims[Cust_Claims.total_policy_claims==1.0].claim_amount\n",
    "a2=Cust_Claims[Cust_Claims.total_policy_claims==2.0].claim_amount\n",
    "a3=Cust_Claims[Cust_Claims.total_policy_claims==3.0].claim_amount\n",
    "a4=Cust_Claims[Cust_Claims.total_policy_claims==4.0].claim_amount\n",
    "a5=Cust_Claims[Cust_Claims.total_policy_claims==5.0].claim_amount\n",
    "a6=Cust_Claims[Cust_Claims.total_policy_claims==6.0].claim_amount\n",
    "a7=Cust_Claims[Cust_Claims.total_policy_claims==7.0].claim_amount\n",
    "a8=Cust_Claims[Cust_Claims.total_policy_claims==8.0].claim_amount"
   ]
  },
  {
   "cell_type": "code",
   "execution_count": 142,
   "id": "a34c58a7",
   "metadata": {},
   "outputs": [
    {
     "data": {
      "text/plain": [
       "F_onewayResult(statistic=0.8524279319141894, pvalue=0.5439242016439254)"
      ]
     },
     "execution_count": 142,
     "metadata": {},
     "output_type": "execute_result"
    }
   ],
   "source": [
    "t4 = stats.f_oneway(a1,a2,a3,a4,a5,a6,a7,a8)\n",
    "t4"
   ]
  },
  {
   "cell_type": "code",
   "execution_count": 143,
   "id": "4111801b",
   "metadata": {},
   "outputs": [],
   "source": [
    "pvalue=0.5439242016439254\n",
    "pcritical =0.05\n",
    "statistic=0.8524279319141894"
   ]
  },
  {
   "cell_type": "code",
   "execution_count": 144,
   "id": "7021c0a7",
   "metadata": {},
   "outputs": [
    {
     "data": {
      "text/plain": [
       "True"
      ]
     },
     "execution_count": 144,
     "metadata": {},
     "output_type": "execute_result"
    }
   ],
   "source": [
    "pvalue>pcritical"
   ]
  },
  {
   "cell_type": "raw",
   "id": "7a02f13d",
   "metadata": {},
   "source": [
    "p is high null will fly means pvalue is greater than pcritical so its fail to reject the null hypothesis."
   ]
  },
  {
   "cell_type": "raw",
   "id": "4d7bc6e6",
   "metadata": {},
   "source": [
    "Conclusion : Pvalue is > 0.05. Hence we accept Null Hypothesis Ho and There is no relationship between total_policy_claims and claim amount"
   ]
  },
  {
   "cell_type": "code",
   "execution_count": null,
   "id": "e053c55a",
   "metadata": {},
   "outputs": [],
   "source": []
  }
 ],
 "metadata": {
  "kernelspec": {
   "display_name": "Python 3 (ipykernel)",
   "language": "python",
   "name": "python3"
  },
  "language_info": {
   "codemirror_mode": {
    "name": "ipython",
    "version": 3
   },
   "file_extension": ".py",
   "mimetype": "text/x-python",
   "name": "python",
   "nbconvert_exporter": "python",
   "pygments_lexer": "ipython3",
   "version": "3.9.13"
  }
 },
 "nbformat": 4,
 "nbformat_minor": 5
}
